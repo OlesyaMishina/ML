{
 "cells": [
  {
   "cell_type": "markdown",
   "metadata": {
    "id": "CIu2DPx5tWcg"
   },
   "source": [
    "## Домашнее задание"
   ]
  },
  {
   "cell_type": "markdown",
   "metadata": {
    "id": "ENiWYl_EtWcm"
   },
   "source": [
    "### 1. Загрузите тренировочные и тестовые датасеты"
   ]
  },
  {
   "cell_type": "code",
   "execution_count": 2,
   "metadata": {},
   "outputs": [
    {
     "name": "stdout",
     "output_type": "stream",
     "text": [
      "Collecting category_encoders\n",
      "  Downloading category_encoders-2.6.3-py2.py3-none-any.whl.metadata (8.0 kB)\n",
      "Requirement already satisfied: numpy>=1.14.0 in c:\\users\\olesya\\anaconda3\\lib\\site-packages (from category_encoders) (1.26.4)\n",
      "Requirement already satisfied: scikit-learn>=0.20.0 in c:\\users\\olesya\\anaconda3\\lib\\site-packages (from category_encoders) (1.2.2)\n",
      "Requirement already satisfied: scipy>=1.0.0 in c:\\users\\olesya\\anaconda3\\lib\\site-packages (from category_encoders) (1.11.4)\n",
      "Requirement already satisfied: statsmodels>=0.9.0 in c:\\users\\olesya\\anaconda3\\lib\\site-packages (from category_encoders) (0.14.0)\n",
      "Requirement already satisfied: pandas>=1.0.5 in c:\\users\\olesya\\anaconda3\\lib\\site-packages (from category_encoders) (2.1.4)\n",
      "Requirement already satisfied: patsy>=0.5.1 in c:\\users\\olesya\\anaconda3\\lib\\site-packages (from category_encoders) (0.5.3)\n",
      "Requirement already satisfied: python-dateutil>=2.8.2 in c:\\users\\olesya\\anaconda3\\lib\\site-packages (from pandas>=1.0.5->category_encoders) (2.8.2)\n",
      "Requirement already satisfied: pytz>=2020.1 in c:\\users\\olesya\\anaconda3\\lib\\site-packages (from pandas>=1.0.5->category_encoders) (2023.3.post1)\n",
      "Requirement already satisfied: tzdata>=2022.1 in c:\\users\\olesya\\anaconda3\\lib\\site-packages (from pandas>=1.0.5->category_encoders) (2023.3)\n",
      "Requirement already satisfied: six in c:\\users\\olesya\\anaconda3\\lib\\site-packages (from patsy>=0.5.1->category_encoders) (1.16.0)\n",
      "Requirement already satisfied: joblib>=1.1.1 in c:\\users\\olesya\\anaconda3\\lib\\site-packages (from scikit-learn>=0.20.0->category_encoders) (1.2.0)\n",
      "Requirement already satisfied: threadpoolctl>=2.0.0 in c:\\users\\olesya\\anaconda3\\lib\\site-packages (from scikit-learn>=0.20.0->category_encoders) (2.2.0)\n",
      "Requirement already satisfied: packaging>=21.3 in c:\\users\\olesya\\anaconda3\\lib\\site-packages (from statsmodels>=0.9.0->category_encoders) (23.1)\n",
      "Downloading category_encoders-2.6.3-py2.py3-none-any.whl (81 kB)\n",
      "   ---------------------------------------- 0.0/81.9 kB ? eta -:--:--\n",
      "   ----- ---------------------------------- 10.2/81.9 kB ? eta -:--:--\n",
      "   --------------- ------------------------ 30.7/81.9 kB 660.6 kB/s eta 0:00:01\n",
      "   ---------------------------------------- 81.9/81.9 kB 770.1 kB/s eta 0:00:00\n",
      "Installing collected packages: category_encoders\n",
      "Successfully installed category_encoders-2.6.3\n"
     ]
    }
   ],
   "source": [
    "!pip install category_encoders"
   ]
  },
  {
   "cell_type": "code",
   "execution_count": 84,
   "metadata": {
    "id": "_uf-KNwQtWcn"
   },
   "outputs": [],
   "source": [
    "import pandas as pd\n",
    "from category_encoders import TargetEncoder\n",
    "from sklearn.preprocessing import StandardScaler\n",
    "from sklearn.linear_model import LogisticRegression\n",
    "from sklearn.svm import SVC\n",
    "from sklearn.neighbors import KNeighborsClassifier\n",
    "\n",
    "Xtrain = pd.read_csv(\"TrainData.csv\")\n",
    "Xtest = pd.read_csv(\"TestData.csv\")"
   ]
  },
  {
   "cell_type": "code",
   "execution_count": 85,
   "metadata": {},
   "outputs": [
    {
     "data": {
      "text/html": [
       "<div>\n",
       "<style scoped>\n",
       "    .dataframe tbody tr th:only-of-type {\n",
       "        vertical-align: middle;\n",
       "    }\n",
       "\n",
       "    .dataframe tbody tr th {\n",
       "        vertical-align: top;\n",
       "    }\n",
       "\n",
       "    .dataframe thead th {\n",
       "        text-align: right;\n",
       "    }\n",
       "</style>\n",
       "<table border=\"1\" class=\"dataframe\">\n",
       "  <thead>\n",
       "    <tr style=\"text-align: right;\">\n",
       "      <th></th>\n",
       "      <th>f1</th>\n",
       "      <th>f2</th>\n",
       "      <th>f3</th>\n",
       "      <th>f4</th>\n",
       "      <th>f5</th>\n",
       "      <th>f6</th>\n",
       "      <th>f7</th>\n",
       "      <th>f8</th>\n",
       "      <th>f9</th>\n",
       "      <th>f10</th>\n",
       "      <th>f11</th>\n",
       "      <th>f12</th>\n",
       "      <th>f13</th>\n",
       "      <th>f14</th>\n",
       "      <th>target</th>\n",
       "    </tr>\n",
       "  </thead>\n",
       "  <tbody>\n",
       "    <tr>\n",
       "      <th>0</th>\n",
       "      <td>50</td>\n",
       "      <td>218.593930</td>\n",
       "      <td>273536</td>\n",
       "      <td>0.104575</td>\n",
       "      <td>4</td>\n",
       "      <td>0.445026</td>\n",
       "      <td>0.274531</td>\n",
       "      <td>0.444334</td>\n",
       "      <td>5.970149</td>\n",
       "      <td>0.300298</td>\n",
       "      <td>0.0</td>\n",
       "      <td>0</td>\n",
       "      <td>49</td>\n",
       "      <td>0.100000</td>\n",
       "      <td>0</td>\n",
       "    </tr>\n",
       "    <tr>\n",
       "      <th>1</th>\n",
       "      <td>32</td>\n",
       "      <td>276.771005</td>\n",
       "      <td>173314</td>\n",
       "      <td>0.224684</td>\n",
       "      <td>11</td>\n",
       "      <td>0.445026</td>\n",
       "      <td>0.439103</td>\n",
       "      <td>0.444334</td>\n",
       "      <td>5.970149</td>\n",
       "      <td>0.300298</td>\n",
       "      <td>0.0</td>\n",
       "      <td>0</td>\n",
       "      <td>60</td>\n",
       "      <td>0.244418</td>\n",
       "      <td>0</td>\n",
       "    </tr>\n",
       "    <tr>\n",
       "      <th>2</th>\n",
       "      <td>38</td>\n",
       "      <td>218.593930</td>\n",
       "      <td>28887</td>\n",
       "      <td>0.032491</td>\n",
       "      <td>7</td>\n",
       "      <td>0.445026</td>\n",
       "      <td>0.274531</td>\n",
       "      <td>0.444334</td>\n",
       "      <td>25.606721</td>\n",
       "      <td>0.300298</td>\n",
       "      <td>0.0</td>\n",
       "      <td>0</td>\n",
       "      <td>50</td>\n",
       "      <td>0.244418</td>\n",
       "      <td>0</td>\n",
       "    </tr>\n",
       "    <tr>\n",
       "      <th>3</th>\n",
       "      <td>19</td>\n",
       "      <td>218.593930</td>\n",
       "      <td>427862</td>\n",
       "      <td>0.179322</td>\n",
       "      <td>10</td>\n",
       "      <td>0.049127</td>\n",
       "      <td>0.044987</td>\n",
       "      <td>0.009499</td>\n",
       "      <td>25.606721</td>\n",
       "      <td>0.300298</td>\n",
       "      <td>0.0</td>\n",
       "      <td>0</td>\n",
       "      <td>35</td>\n",
       "      <td>0.244418</td>\n",
       "      <td>0</td>\n",
       "    </tr>\n",
       "    <tr>\n",
       "      <th>4</th>\n",
       "      <td>44</td>\n",
       "      <td>218.593930</td>\n",
       "      <td>109339</td>\n",
       "      <td>0.032491</td>\n",
       "      <td>7</td>\n",
       "      <td>0.098837</td>\n",
       "      <td>0.115721</td>\n",
       "      <td>0.066581</td>\n",
       "      <td>5.970149</td>\n",
       "      <td>0.113590</td>\n",
       "      <td>0.0</td>\n",
       "      <td>0</td>\n",
       "      <td>46</td>\n",
       "      <td>0.185185</td>\n",
       "      <td>0</td>\n",
       "    </tr>\n",
       "  </tbody>\n",
       "</table>\n",
       "</div>"
      ],
      "text/plain": [
       "   f1          f2      f3        f4  f5        f6        f7        f8  \\\n",
       "0  50  218.593930  273536  0.104575   4  0.445026  0.274531  0.444334   \n",
       "1  32  276.771005  173314  0.224684  11  0.445026  0.439103  0.444334   \n",
       "2  38  218.593930   28887  0.032491   7  0.445026  0.274531  0.444334   \n",
       "3  19  218.593930  427862  0.179322  10  0.049127  0.044987  0.009499   \n",
       "4  44  218.593930  109339  0.032491   7  0.098837  0.115721  0.066581   \n",
       "\n",
       "          f9       f10  f11  f12  f13       f14  target  \n",
       "0   5.970149  0.300298  0.0    0   49  0.100000       0  \n",
       "1   5.970149  0.300298  0.0    0   60  0.244418       0  \n",
       "2  25.606721  0.300298  0.0    0   50  0.244418       0  \n",
       "3  25.606721  0.300298  0.0    0   35  0.244418       0  \n",
       "4   5.970149  0.113590  0.0    0   46  0.185185       0  "
      ]
     },
     "execution_count": 85,
     "metadata": {},
     "output_type": "execute_result"
    }
   ],
   "source": [
    "Xtrain.head()"
   ]
  },
  {
   "cell_type": "code",
   "execution_count": 86,
   "metadata": {},
   "outputs": [
    {
     "data": {
      "text/html": [
       "<div>\n",
       "<style scoped>\n",
       "    .dataframe tbody tr th:only-of-type {\n",
       "        vertical-align: middle;\n",
       "    }\n",
       "\n",
       "    .dataframe tbody tr th {\n",
       "        vertical-align: top;\n",
       "    }\n",
       "\n",
       "    .dataframe thead th {\n",
       "        text-align: right;\n",
       "    }\n",
       "</style>\n",
       "<table border=\"1\" class=\"dataframe\">\n",
       "  <thead>\n",
       "    <tr style=\"text-align: right;\">\n",
       "      <th></th>\n",
       "      <th>f1</th>\n",
       "      <th>f2</th>\n",
       "      <th>f3</th>\n",
       "      <th>f4</th>\n",
       "      <th>f5</th>\n",
       "      <th>f6</th>\n",
       "      <th>f7</th>\n",
       "      <th>f8</th>\n",
       "      <th>f9</th>\n",
       "      <th>f10</th>\n",
       "      <th>f11</th>\n",
       "      <th>f12</th>\n",
       "      <th>f13</th>\n",
       "      <th>f14</th>\n",
       "      <th>target</th>\n",
       "    </tr>\n",
       "  </thead>\n",
       "  <tbody>\n",
       "    <tr>\n",
       "      <th>count</th>\n",
       "      <td>7500.000000</td>\n",
       "      <td>7425.000000</td>\n",
       "      <td>7.500000e+03</td>\n",
       "      <td>7500.000000</td>\n",
       "      <td>7500.000000</td>\n",
       "      <td>7500.000000</td>\n",
       "      <td>5625.000000</td>\n",
       "      <td>7500.000000</td>\n",
       "      <td>7500.000000</td>\n",
       "      <td>7500.000000</td>\n",
       "      <td>7490.000000</td>\n",
       "      <td>7500.000000</td>\n",
       "      <td>7500.000000</td>\n",
       "      <td>7500.000000</td>\n",
       "      <td>7500.000000</td>\n",
       "    </tr>\n",
       "    <tr>\n",
       "      <th>mean</th>\n",
       "      <td>38.579600</td>\n",
       "      <td>238.905308</td>\n",
       "      <td>1.903850e+05</td>\n",
       "      <td>0.238933</td>\n",
       "      <td>10.083200</td>\n",
       "      <td>0.238934</td>\n",
       "      <td>0.240556</td>\n",
       "      <td>0.238933</td>\n",
       "      <td>23.893333</td>\n",
       "      <td>0.238933</td>\n",
       "      <td>1068.693992</td>\n",
       "      <td>88.974933</td>\n",
       "      <td>40.670800</td>\n",
       "      <td>0.238955</td>\n",
       "      <td>0.238933</td>\n",
       "    </tr>\n",
       "    <tr>\n",
       "      <th>std</th>\n",
       "      <td>13.647719</td>\n",
       "      <td>76.198282</td>\n",
       "      <td>1.058674e+05</td>\n",
       "      <td>0.151738</td>\n",
       "      <td>2.546071</td>\n",
       "      <td>0.190283</td>\n",
       "      <td>0.147371</td>\n",
       "      <td>0.193365</td>\n",
       "      <td>4.451530</td>\n",
       "      <td>0.087708</td>\n",
       "      <td>7430.344770</td>\n",
       "      <td>404.517032</td>\n",
       "      <td>12.330051</td>\n",
       "      <td>0.041685</td>\n",
       "      <td>0.426460</td>\n",
       "    </tr>\n",
       "    <tr>\n",
       "      <th>min</th>\n",
       "      <td>17.000000</td>\n",
       "      <td>64.259070</td>\n",
       "      <td>1.930200e+04</td>\n",
       "      <td>0.000029</td>\n",
       "      <td>1.000000</td>\n",
       "      <td>0.049127</td>\n",
       "      <td>0.000000</td>\n",
       "      <td>0.009499</td>\n",
       "      <td>5.970149</td>\n",
       "      <td>0.113590</td>\n",
       "      <td>0.000000</td>\n",
       "      <td>0.000000</td>\n",
       "      <td>1.000000</td>\n",
       "      <td>0.000080</td>\n",
       "      <td>0.000000</td>\n",
       "    </tr>\n",
       "    <tr>\n",
       "      <th>25%</th>\n",
       "      <td>28.000000</td>\n",
       "      <td>218.593930</td>\n",
       "      <td>1.180190e+05</td>\n",
       "      <td>0.171817</td>\n",
       "      <td>9.000000</td>\n",
       "      <td>0.049127</td>\n",
       "      <td>0.115721</td>\n",
       "      <td>0.066581</td>\n",
       "      <td>25.606721</td>\n",
       "      <td>0.113590</td>\n",
       "      <td>0.000000</td>\n",
       "      <td>0.000000</td>\n",
       "      <td>40.000000</td>\n",
       "      <td>0.244418</td>\n",
       "      <td>0.000000</td>\n",
       "    </tr>\n",
       "    <tr>\n",
       "      <th>50%</th>\n",
       "      <td>37.000000</td>\n",
       "      <td>218.593930</td>\n",
       "      <td>1.795685e+05</td>\n",
       "      <td>0.179322</td>\n",
       "      <td>10.000000</td>\n",
       "      <td>0.098837</td>\n",
       "      <td>0.241573</td>\n",
       "      <td>0.103024</td>\n",
       "      <td>25.606721</td>\n",
       "      <td>0.300298</td>\n",
       "      <td>0.000000</td>\n",
       "      <td>0.000000</td>\n",
       "      <td>40.000000</td>\n",
       "      <td>0.244418</td>\n",
       "      <td>0.000000</td>\n",
       "    </tr>\n",
       "    <tr>\n",
       "      <th>75%</th>\n",
       "      <td>47.000000</td>\n",
       "      <td>218.593930</td>\n",
       "      <td>2.394418e+05</td>\n",
       "      <td>0.239316</td>\n",
       "      <td>12.000000</td>\n",
       "      <td>0.445026</td>\n",
       "      <td>0.439103</td>\n",
       "      <td>0.444334</td>\n",
       "      <td>25.606721</td>\n",
       "      <td>0.300298</td>\n",
       "      <td>0.000000</td>\n",
       "      <td>0.000000</td>\n",
       "      <td>45.000000</td>\n",
       "      <td>0.244418</td>\n",
       "      <td>0.000000</td>\n",
       "    </tr>\n",
       "    <tr>\n",
       "      <th>max</th>\n",
       "      <td>90.000000</td>\n",
       "      <td>575.396825</td>\n",
       "      <td>1.226583e+06</td>\n",
       "      <td>0.729323</td>\n",
       "      <td>16.000000</td>\n",
       "      <td>0.445026</td>\n",
       "      <td>0.482222</td>\n",
       "      <td>0.484375</td>\n",
       "      <td>25.606721</td>\n",
       "      <td>0.300298</td>\n",
       "      <td>99999.000000</td>\n",
       "      <td>4356.000000</td>\n",
       "      <td>99.000000</td>\n",
       "      <td>0.466666</td>\n",
       "      <td>1.000000</td>\n",
       "    </tr>\n",
       "  </tbody>\n",
       "</table>\n",
       "</div>"
      ],
      "text/plain": [
       "                f1           f2            f3           f4           f5  \\\n",
       "count  7500.000000  7425.000000  7.500000e+03  7500.000000  7500.000000   \n",
       "mean     38.579600   238.905308  1.903850e+05     0.238933    10.083200   \n",
       "std      13.647719    76.198282  1.058674e+05     0.151738     2.546071   \n",
       "min      17.000000    64.259070  1.930200e+04     0.000029     1.000000   \n",
       "25%      28.000000   218.593930  1.180190e+05     0.171817     9.000000   \n",
       "50%      37.000000   218.593930  1.795685e+05     0.179322    10.000000   \n",
       "75%      47.000000   218.593930  2.394418e+05     0.239316    12.000000   \n",
       "max      90.000000   575.396825  1.226583e+06     0.729323    16.000000   \n",
       "\n",
       "                f6           f7           f8           f9          f10  \\\n",
       "count  7500.000000  5625.000000  7500.000000  7500.000000  7500.000000   \n",
       "mean      0.238934     0.240556     0.238933    23.893333     0.238933   \n",
       "std       0.190283     0.147371     0.193365     4.451530     0.087708   \n",
       "min       0.049127     0.000000     0.009499     5.970149     0.113590   \n",
       "25%       0.049127     0.115721     0.066581    25.606721     0.113590   \n",
       "50%       0.098837     0.241573     0.103024    25.606721     0.300298   \n",
       "75%       0.445026     0.439103     0.444334    25.606721     0.300298   \n",
       "max       0.445026     0.482222     0.484375    25.606721     0.300298   \n",
       "\n",
       "                f11          f12          f13          f14       target  \n",
       "count   7490.000000  7500.000000  7500.000000  7500.000000  7500.000000  \n",
       "mean    1068.693992    88.974933    40.670800     0.238955     0.238933  \n",
       "std     7430.344770   404.517032    12.330051     0.041685     0.426460  \n",
       "min        0.000000     0.000000     1.000000     0.000080     0.000000  \n",
       "25%        0.000000     0.000000    40.000000     0.244418     0.000000  \n",
       "50%        0.000000     0.000000    40.000000     0.244418     0.000000  \n",
       "75%        0.000000     0.000000    45.000000     0.244418     0.000000  \n",
       "max    99999.000000  4356.000000    99.000000     0.466666     1.000000  "
      ]
     },
     "execution_count": 86,
     "metadata": {},
     "output_type": "execute_result"
    }
   ],
   "source": [
    "Xtrain.describe()"
   ]
  },
  {
   "cell_type": "code",
   "execution_count": 8,
   "metadata": {},
   "outputs": [
    {
     "name": "stdout",
     "output_type": "stream",
     "text": [
      "<class 'pandas.core.frame.DataFrame'>\n",
      "RangeIndex: 7500 entries, 0 to 7499\n",
      "Data columns (total 15 columns):\n",
      " #   Column  Non-Null Count  Dtype  \n",
      "---  ------  --------------  -----  \n",
      " 0   f1      7500 non-null   int64  \n",
      " 1   f2      7425 non-null   float64\n",
      " 2   f3      7500 non-null   int64  \n",
      " 3   f4      7500 non-null   float64\n",
      " 4   f5      7500 non-null   int64  \n",
      " 5   f6      7500 non-null   float64\n",
      " 6   f7      5625 non-null   float64\n",
      " 7   f8      7500 non-null   float64\n",
      " 8   f9      7500 non-null   float64\n",
      " 9   f10     7500 non-null   float64\n",
      " 10  f11     7490 non-null   float64\n",
      " 11  f12     7500 non-null   int64  \n",
      " 12  f13     7500 non-null   int64  \n",
      " 13  f14     7500 non-null   float64\n",
      " 14  target  7500 non-null   int64  \n",
      "dtypes: float64(9), int64(6)\n",
      "memory usage: 879.0 KB\n"
     ]
    }
   ],
   "source": [
    "Xtrain.info()"
   ]
  },
  {
   "cell_type": "code",
   "execution_count": 10,
   "metadata": {},
   "outputs": [
    {
     "data": {
      "text/plain": [
       "f1           0\n",
       "f2          75\n",
       "f3           0\n",
       "f4           0\n",
       "f5           0\n",
       "f6           0\n",
       "f7        1875\n",
       "f8           0\n",
       "f9           0\n",
       "f10          0\n",
       "f11         10\n",
       "f12          0\n",
       "f13          0\n",
       "f14          0\n",
       "target       0\n",
       "dtype: int64"
      ]
     },
     "execution_count": 10,
     "metadata": {},
     "output_type": "execute_result"
    }
   ],
   "source": [
    "Xtrain.isnull().sum()"
   ]
  },
  {
   "cell_type": "code",
   "execution_count": 43,
   "metadata": {},
   "outputs": [
    {
     "data": {
      "image/png": "[encoded data removed]",
      "text/plain": [
       "<Figure size 1600x800 with 1 Axes>"
      ]
     },
     "metadata": {},
     "output_type": "display_data"
    }
   ],
   "source": [
    "import seaborn as sns\n",
    "import warnings\n",
    "warnings.filterwarnings('ignore')\n",
    "import numpy as np\n",
    "\n",
    "mean = Xtrain.f7.mean()\n",
    "median = Xtrain.f7.median()\n",
    "\n",
    "plt.figure(figsize = (16, 8))\n",
    "\n",
    "sns.distplot(Xtrain['f7'], bins=50)\n",
    "\n",
    "y = np.linspace(0, 15, 100)\n",
    "plt.plot([mean] * 100, y, label='mean', linestyle=':', linewidth=4)\n",
    "plt.plot([median] * 100, y, label='median',linestyle='--',  linewidth=4)\n",
    "\n",
    "\n",
    "plt.title('Распределение f7')\n",
    "plt.legend()\n",
    "plt.show()"
   ]
  },
  {
   "cell_type": "code",
   "execution_count": 87,
   "metadata": {},
   "outputs": [],
   "source": [
    "#В признаке f7 отсутствуем 1875 значений, в f2 75, в f11 10. Я проверила, медиана и среднее не сильно отличается друг от друга, \n",
    "#заполним пропуски в этим признаке средними значениями по столбцу\n",
    "Xtrain.fillna(Xtrain.f7.mean().round(2), inplace=True)"
   ]
  },
  {
   "cell_type": "code",
   "execution_count": 78,
   "metadata": {},
   "outputs": [
    {
     "name": "stdout",
     "output_type": "stream",
     "text": [
      "<class 'pandas.core.frame.DataFrame'>\n",
      "RangeIndex: 7500 entries, 0 to 7499\n",
      "Data columns (total 15 columns):\n",
      " #   Column  Non-Null Count  Dtype  \n",
      "---  ------  --------------  -----  \n",
      " 0   f1      7500 non-null   int64  \n",
      " 1   f2      7500 non-null   float64\n",
      " 2   f3      7500 non-null   int64  \n",
      " 3   f4      7500 non-null   float64\n",
      " 4   f5      7500 non-null   int64  \n",
      " 5   f6      7500 non-null   float64\n",
      " 6   f7      7500 non-null   float64\n",
      " 7   f8      7500 non-null   float64\n",
      " 8   f9      7500 non-null   float64\n",
      " 9   f10     7500 non-null   float64\n",
      " 10  f11     7500 non-null   float64\n",
      " 11  f12     7500 non-null   int64  \n",
      " 12  f13     7500 non-null   int64  \n",
      " 13  f14     7500 non-null   float64\n",
      " 14  target  7500 non-null   int64  \n",
      "dtypes: float64(9), int64(6)\n",
      "memory usage: 879.0 KB\n"
     ]
    }
   ],
   "source": [
    "Xtrain.info()\n"
   ]
  },
  {
   "cell_type": "code",
   "execution_count": 49,
   "metadata": {
    "id": "sqevAjp-tWcr"
   },
   "outputs": [
    {
     "name": "stdout",
     "output_type": "stream",
     "text": [
      "<class 'pandas.core.frame.DataFrame'>\n",
      "RangeIndex: 2500 entries, 0 to 2499\n",
      "Data columns (total 15 columns):\n",
      " #   Column  Non-Null Count  Dtype  \n",
      "---  ------  --------------  -----  \n",
      " 0   f1      2500 non-null   int64  \n",
      " 1   f2      2500 non-null   float64\n",
      " 2   f3      2500 non-null   int64  \n",
      " 3   f4      2500 non-null   float64\n",
      " 4   f5      2500 non-null   int64  \n",
      " 5   f6      2500 non-null   float64\n",
      " 6   f7      2500 non-null   float64\n",
      " 7   f8      2500 non-null   float64\n",
      " 8   f9      2500 non-null   float64\n",
      " 9   f10     2500 non-null   float64\n",
      " 10  f11     2500 non-null   int64  \n",
      " 11  f12     2500 non-null   int64  \n",
      " 12  f13     2500 non-null   int64  \n",
      " 13  f14     2500 non-null   float64\n",
      " 14  target  2500 non-null   int64  \n",
      "dtypes: float64(8), int64(7)\n",
      "memory usage: 293.1 KB\n"
     ]
    }
   ],
   "source": [
    "Xtest.info()"
   ]
  },
  {
   "cell_type": "markdown",
   "metadata": {},
   "source": [
    "Видим, что пустых значений в Xtest нет. "
   ]
  },
  {
   "cell_type": "markdown",
   "metadata": {
    "id": "oQkpwQGHtWcr"
   },
   "source": [
    "### 2. Оцените баланс классов в задаче\n",
    "- Затем попытайтесь устно ответить на вопрос, можно ли использовать accuracy как метрику качества в задаче?"
   ]
  },
  {
   "cell_type": "code",
   "execution_count": 65,
   "metadata": {},
   "outputs": [
    {
     "data": {
      "text/plain": [
       "[Text(0, 0, '5708'), Text(0, 0, '1792')]"
      ]
     },
     "execution_count": 65,
     "metadata": {},
     "output_type": "execute_result"
    },
    {
     "data": {
      "image/png": "[encoded data removed]",
      "text/plain": [
       "<Figure size 640x480 with 1 Axes>"
      ]
     },
     "metadata": {},
     "output_type": "display_data"
    }
   ],
   "source": [
    "# Ваш код здесь\n",
    "fig = Xtrain.target.value_counts().plot(kind='bar')\n",
    "fig.bar_label(fig.containers[0])"
   ]
  },
  {
   "cell_type": "code",
   "execution_count": 66,
   "metadata": {
    "id": "csjvNCCutWcs"
   },
   "outputs": [
    {
     "data": {
      "text/plain": [
       "[Text(0, 0, '1913'), Text(0, 0, '587')]"
      ]
     },
     "execution_count": 66,
     "metadata": {},
     "output_type": "execute_result"
    },
    {
     "data": {
      "image/png": "[encoded data removed]",
      "text/plain": [
       "<Figure size 640x480 with 1 Axes>"
      ]
     },
     "metadata": {},
     "output_type": "display_data"
    }
   ],
   "source": [
    "\n",
    "fig = Xtest.target.value_counts().plot(kind='bar')\n",
    "fig.bar_label(fig.containers[0])\n"
   ]
  },
  {
   "cell_type": "markdown",
   "metadata": {},
   "source": [
    "В обих выборках классы несбалансированы (объектов одного класса сильно больше, чем объектов другого). Для задачи классификации в этом случае недостаточно использовать только метрику accuracy, которая равна доле правильных ответов классификатора к общему количеству объектов в выборке. Такая метрика очень плохо работает в случае несбалансированной выборки, так как она может предсказывать только объекты более распространенного метода и давать а нашем случае 76% точности просто потому что объектов 0 76% от всего количество объектов.\n",
    "\n",
    "Для оценки моделей в случае несбалансированных классов лучше использовать F1-score: Гармоническое среднее между precision и recall. \r",
    "\r\n",
    "Precision: Доля верных предсказаний среди всех предсказанных объектов определенного класса\n",
    ". Recall (Sensitivity): Доля верных предсказаний среди всех объектов этого класса в выборке\n",
    ". AUC (Area Under the Curve): Площадь под кривой ROC (Receiver Operating Characteristic), которая показывает, насколько хорошо модель различает два класса."
   ]
  },
  {
   "cell_type": "markdown",
   "metadata": {
    "id": "xB_ReQ62tWct"
   },
   "source": [
    "### 3. Постройте baseline-модель:\n",
    "- разбейте TrainData на тренировочные (Train) и тестовые данные (Test);\n",
    "- обучите LogisticRegression и SVC с параметрами по умолчанию на тренировочных данных (Train);\n",
    "- примените модели на тестовых данных (Test)."
   ]
  },
  {
   "cell_type": "code",
   "execution_count": 103,
   "metadata": {
    "id": "WUfRVj5ctWcu"
   },
   "outputs": [],
   "source": [
    "from sklearn.metrics import f1_score, accuracy_score\n",
    "from sklearn.model_selection import train_test_split, GridSearchCV, Logi\n",
    "\n",
    "# Ваш код здесь\n",
    "\n",
    "X = Xtrain.drop('target',axis=1)\n",
    "y = Xtrain.target\n",
    "X_train, X_test, y_train, y_test = train_test_split(X, y, random_state=42, test_size=0.3)"
   ]
  },
  {
   "cell_type": "code",
   "execution_count": 104,
   "metadata": {},
   "outputs": [
    {
     "name": "stdout",
     "output_type": "stream",
     "text": [
      "F1 score для логистической регресси составляет 0.37\n",
      "Accuracy для логистической регресси составляет 0.8\n",
      "F1 score для метода опорных векторов составляет 0.08\n",
      "Accuracy для метода опорных векторов составляет 0.77\n"
     ]
    }
   ],
   "source": [
    "lr = LogisticRegression()\n",
    "svc = SVC()\n",
    "\n",
    "lr.fit(X_train, y_train)\n",
    "svc.fit(X_train, y_train)\n",
    "\n",
    "y_pred_lr = lr.predict(X_test)\n",
    "y_pred_svc = svc.predict(X_test)\n",
    "\n",
    "print (f'F1 score для логистической регресси составляет {f1_score(y_test, y_pred_lr).round(2)}')\n",
    "print (f'Accuracy для логистической регресси составляет {accuracy_score(y_test, y_pred_lr).round(2)}')\n",
    "print (f'F1 score для метода опорных векторов составляет {f1_score(y_test, y_pred_svc).round(2)}')\n",
    "print (f'Accuracy для метода опорных векторов составляет {accuracy_score(y_test, y_pred_svc).round(2)}')"
   ]
  },
  {
   "cell_type": "markdown",
   "metadata": {},
   "source": [
    "Как видно из значений метрик, accuracy значительно выше f1 score, но это не говорит о том, что она корректна."
   ]
  },
  {
   "cell_type": "markdown",
   "metadata": {
    "id": "KYQnr8CftWcv"
   },
   "source": [
    "### 4. Улучшите модели\n",
    "Попробуйте улучшить качество обученных моделей:\n",
    "- можете задавать class_weights;\n",
    "- можете изменять параметры модели;\n",
    "- можете вручную или при помощи методов Python генерировать новые признаки и/или удалять существующие.\n",
    "\n",
    "Это самая важная и творческая часть задания. Проводите как можно больше экспериментов!\n",
    "\n",
    "Проведите минимиум три эксперимента: для каждого типа модели минимум один эксперимент."
   ]
  },
  {
   "cell_type": "markdown",
   "metadata": {},
   "source": [
    "#### 1. Логистическая регрессия с L2 регуляризацией"
   ]
  },
  {
   "cell_type": "code",
   "execution_count": 152,
   "metadata": {},
   "outputs": [
    {
     "data": {
      "text/html": [
       "<style>#sk-container-id-6 {color: black;background-color: white;}#sk-container-id-6 pre{padding: 0;}#sk-container-id-6 div.sk-toggleable {background-color: white;}#sk-container-id-6 label.sk-toggleable__label {cursor: pointer;display: block;width: 100%;margin-bottom: 0;padding: 0.3em;box-sizing: border-box;text-align: center;}#sk-container-id-6 label.sk-toggleable__label-arrow:before {content: \"▸\";float: left;margin-right: 0.25em;color: #696969;}#sk-container-id-6 label.sk-toggleable__label-arrow:hover:before {color: black;}#sk-container-id-6 div.sk-estimator:hover label.sk-toggleable__label-arrow:before {color: black;}#sk-container-id-6 div.sk-toggleable__content {max-height: 0;max-width: 0;overflow: hidden;text-align: left;background-color: #f0f8ff;}#sk-container-id-6 div.sk-toggleable__content pre {margin: 0.2em;color: black;border-radius: 0.25em;background-color: #f0f8ff;}#sk-container-id-6 input.sk-toggleable__control:checked~div.sk-toggleable__content {max-height: 200px;max-width: 100%;overflow: auto;}#sk-container-id-6 input.sk-toggleable__control:checked~label.sk-toggleable__label-arrow:before {content: \"▾\";}#sk-container-id-6 div.sk-estimator input.sk-toggleable__control:checked~label.sk-toggleable__label {background-color: #d4ebff;}#sk-container-id-6 div.sk-label input.sk-toggleable__control:checked~label.sk-toggleable__label {background-color: #d4ebff;}#sk-container-id-6 input.sk-hidden--visually {border: 0;clip: rect(1px 1px 1px 1px);clip: rect(1px, 1px, 1px, 1px);height: 1px;margin: -1px;overflow: hidden;padding: 0;position: absolute;width: 1px;}#sk-container-id-6 div.sk-estimator {font-family: monospace;background-color: #f0f8ff;border: 1px dotted black;border-radius: 0.25em;box-sizing: border-box;margin-bottom: 0.5em;}#sk-container-id-6 div.sk-estimator:hover {background-color: #d4ebff;}#sk-container-id-6 div.sk-parallel-item::after {content: \"\";width: 100%;border-bottom: 1px solid gray;flex-grow: 1;}#sk-container-id-6 div.sk-label:hover label.sk-toggleable__label {background-color: #d4ebff;}#sk-container-id-6 div.sk-serial::before {content: \"\";position: absolute;border-left: 1px solid gray;box-sizing: border-box;top: 0;bottom: 0;left: 50%;z-index: 0;}#sk-container-id-6 div.sk-serial {display: flex;flex-direction: column;align-items: center;background-color: white;padding-right: 0.2em;padding-left: 0.2em;position: relative;}#sk-container-id-6 div.sk-item {position: relative;z-index: 1;}#sk-container-id-6 div.sk-parallel {display: flex;align-items: stretch;justify-content: center;background-color: white;position: relative;}#sk-container-id-6 div.sk-item::before, #sk-container-id-6 div.sk-parallel-item::before {content: \"\";position: absolute;border-left: 1px solid gray;box-sizing: border-box;top: 0;bottom: 0;left: 50%;z-index: -1;}#sk-container-id-6 div.sk-parallel-item {display: flex;flex-direction: column;z-index: 1;position: relative;background-color: white;}#sk-container-id-6 div.sk-parallel-item:first-child::after {align-self: flex-end;width: 50%;}#sk-container-id-6 div.sk-parallel-item:last-child::after {align-self: flex-start;width: 50%;}#sk-container-id-6 div.sk-parallel-item:only-child::after {width: 0;}#sk-container-id-6 div.sk-dashed-wrapped {border: 1px dashed gray;margin: 0 0.4em 0.5em 0.4em;box-sizing: border-box;padding-bottom: 0.4em;background-color: white;}#sk-container-id-6 div.sk-label label {font-family: monospace;font-weight: bold;display: inline-block;line-height: 1.2em;}#sk-container-id-6 div.sk-label-container {text-align: center;}#sk-container-id-6 div.sk-container {/* jupyter's `normalize.less` sets `[hidden] { display: none; }` but bootstrap.min.css set `[hidden] { display: none !important; }` so we also need the `!important` here to be able to override the default hidden behavior on the sphinx rendered scikit-learn.org. See: https://github.com/scikit-learn/scikit-learn/issues/21755 */display: inline-block !important;position: relative;}#sk-container-id-6 div.sk-text-repr-fallback {display: none;}</style><div id=\"sk-container-id-6\" class=\"sk-top-container\"><div class=\"sk-text-repr-fallback\"><pre>GridSearchCV(cv=5, estimator=Ridge(),\n",
       "             param_grid={&#x27;alpha&#x27;: array([ 0.1       ,  0.30204082,  0.50408163,  0.70612245,  0.90816327,\n",
       "        1.11020408,  1.3122449 ,  1.51428571,  1.71632653,  1.91836735,\n",
       "        2.12040816,  2.32244898,  2.5244898 ,  2.72653061,  2.92857143,\n",
       "        3.13061224,  3.33265306,  3.53469388,  3.73673469,  3.93877551,\n",
       "        4.14081633,  4.34285714,  4.54489796,  4.74693878,  4.94897959,\n",
       "        5.15102041,  5.35306122,  5.55510204,  5.75714286,  5.95918367,\n",
       "        6.16122449,  6.36326531,  6.56530612,  6.76734694,  6.96938776,\n",
       "        7.17142857,  7.37346939,  7.5755102 ,  7.77755102,  7.97959184,\n",
       "        8.18163265,  8.38367347,  8.58571429,  8.7877551 ,  8.98979592,\n",
       "        9.19183673,  9.39387755,  9.59591837,  9.79795918, 10.        ])},\n",
       "             scoring=&#x27;f1&#x27;)</pre><b>In a Jupyter environment, please rerun this cell to show the HTML representation or trust the notebook. <br />On GitHub, the HTML representation is unable to render, please try loading this page with nbviewer.org.</b></div><div class=\"sk-container\" hidden><div class=\"sk-item sk-dashed-wrapped\"><div class=\"sk-label-container\"><div class=\"sk-label sk-toggleable\"><input class=\"sk-toggleable__control sk-hidden--visually\" id=\"sk-estimator-id-16\" type=\"checkbox\" ><label for=\"sk-estimator-id-16\" class=\"sk-toggleable__label sk-toggleable__label-arrow\">GridSearchCV</label><div class=\"sk-toggleable__content\"><pre>GridSearchCV(cv=5, estimator=Ridge(),\n",
       "             param_grid={&#x27;alpha&#x27;: array([ 0.1       ,  0.30204082,  0.50408163,  0.70612245,  0.90816327,\n",
       "        1.11020408,  1.3122449 ,  1.51428571,  1.71632653,  1.91836735,\n",
       "        2.12040816,  2.32244898,  2.5244898 ,  2.72653061,  2.92857143,\n",
       "        3.13061224,  3.33265306,  3.53469388,  3.73673469,  3.93877551,\n",
       "        4.14081633,  4.34285714,  4.54489796,  4.74693878,  4.94897959,\n",
       "        5.15102041,  5.35306122,  5.55510204,  5.75714286,  5.95918367,\n",
       "        6.16122449,  6.36326531,  6.56530612,  6.76734694,  6.96938776,\n",
       "        7.17142857,  7.37346939,  7.5755102 ,  7.77755102,  7.97959184,\n",
       "        8.18163265,  8.38367347,  8.58571429,  8.7877551 ,  8.98979592,\n",
       "        9.19183673,  9.39387755,  9.59591837,  9.79795918, 10.        ])},\n",
       "             scoring=&#x27;f1&#x27;)</pre></div></div></div><div class=\"sk-parallel\"><div class=\"sk-parallel-item\"><div class=\"sk-item\"><div class=\"sk-label-container\"><div class=\"sk-label sk-toggleable\"><input class=\"sk-toggleable__control sk-hidden--visually\" id=\"sk-estimator-id-17\" type=\"checkbox\" ><label for=\"sk-estimator-id-17\" class=\"sk-toggleable__label sk-toggleable__label-arrow\">estimator: Ridge</label><div class=\"sk-toggleable__content\"><pre>Ridge()</pre></div></div></div><div class=\"sk-serial\"><div class=\"sk-item\"><div class=\"sk-estimator sk-toggleable\"><input class=\"sk-toggleable__control sk-hidden--visually\" id=\"sk-estimator-id-18\" type=\"checkbox\" ><label for=\"sk-estimator-id-18\" class=\"sk-toggleable__label sk-toggleable__label-arrow\">Ridge</label><div class=\"sk-toggleable__content\"><pre>Ridge()</pre></div></div></div></div></div></div></div></div></div></div>"
      ],
      "text/plain": [
       "GridSearchCV(cv=5, estimator=Ridge(),\n",
       "             param_grid={'alpha': array([ 0.1       ,  0.30204082,  0.50408163,  0.70612245,  0.90816327,\n",
       "        1.11020408,  1.3122449 ,  1.51428571,  1.71632653,  1.91836735,\n",
       "        2.12040816,  2.32244898,  2.5244898 ,  2.72653061,  2.92857143,\n",
       "        3.13061224,  3.33265306,  3.53469388,  3.73673469,  3.93877551,\n",
       "        4.14081633,  4.34285714,  4.54489796,  4.74693878,  4.94897959,\n",
       "        5.15102041,  5.35306122,  5.55510204,  5.75714286,  5.95918367,\n",
       "        6.16122449,  6.36326531,  6.56530612,  6.76734694,  6.96938776,\n",
       "        7.17142857,  7.37346939,  7.5755102 ,  7.77755102,  7.97959184,\n",
       "        8.18163265,  8.38367347,  8.58571429,  8.7877551 ,  8.98979592,\n",
       "        9.19183673,  9.39387755,  9.59591837,  9.79795918, 10.        ])},\n",
       "             scoring='f1')"
      ]
     },
     "execution_count": 152,
     "metadata": {},
     "output_type": "execute_result"
    }
   ],
   "source": [
    "from sklearn.linear_model import Ridge, Lasso\n",
    "\n",
    "model_ridge = Ridge()\n",
    "alpha = np.linspace(0.1, 10, 50)\n",
    "# Подбор параметров модели с помощью GridSearchCV\n",
    "param_grid = {\"alpha\": alpha}\n",
    "grid_search = GridSearchCV(model_ridge, param_grid, scoring=\"f1\", cv=5)\n",
    "grid_search.fit(X_train, y_train)"
   ]
  },
  {
   "cell_type": "code",
   "execution_count": 154,
   "metadata": {},
   "outputs": [],
   "source": [
    "model_ridge_best = grid_search.best_estimator_\n",
    "y_pred_ridge = model_ridge_best.predict(X_test)"
   ]
  },
  {
   "cell_type": "code",
   "execution_count": 156,
   "metadata": {},
   "outputs": [
    {
     "data": {
      "text/plain": [
       "Text(0.5, 0, 'Значения, предсказанные модели с L2 регуляризацией')"
      ]
     },
     "execution_count": 156,
     "metadata": {},
     "output_type": "execute_result"
    },
    {
     "data": {
      "image/png": "[encoded data removed]",
      "text/plain": [
       "<Figure size 640x480 with 1 Axes>"
      ]
     },
     "metadata": {},
     "output_type": "display_data"
    }
   ],
   "source": [
    "#Посмотрим на результаты предсказаний модели\n",
    "plt.plot(y_pred_ridge)\n",
    "plt.xlabel(\"Значения, предсказанные модели с L2 регуляризацией\")"
   ]
  },
  {
   "cell_type": "code",
   "execution_count": 161,
   "metadata": {},
   "outputs": [
    {
     "name": "stdout",
     "output_type": "stream",
     "text": [
      "Лучшая граница разделения классов для модели линейной регрессии 0.357\n"
     ]
    }
   ],
   "source": [
    "#Оценим, при какой границе между классами наша модель выдаст максимальную метрику f1.\n",
    "thresholds = np.linspace(0, 0.5, 50)\n",
    "recalls = {}\n",
    "for threshold in thresholds:\n",
    "    recalls[f1_score(y_test, (y_pred_ridge > threshold).astype(int))] = threshold\n",
    "ridge_best_threshold = recalls[max(recalls.keys())].round(3)\n",
    "print(f'Лучшая граница разделения классов для модели линейной регрессии {ridge_best_threshold}')"
   ]
  },
  {
   "cell_type": "code",
   "execution_count": 172,
   "metadata": {},
   "outputs": [
    {
     "name": "stdout",
     "output_type": "stream",
     "text": [
      "F1 score для логистической регресси c L2 регуляризацией 0.671\n",
      "Accuracy для логистической регресси с L2 регуляризацией 0.807\n"
     ]
    }
   ],
   "source": [
    "print (f'F1 score для логистической регресси c L2 регуляризацией {f1_score(y_test, (y_pred_ridge > ridge_best_threshold).astype(int)).round(3)}')\n",
    "print (f'Accuracy для логистической регресси с L2 регуляризацией {accuracy_score(y_test,  (y_pred_ridge > ridge_best_threshold).astype(int)).round(3)}')"
   ]
  },
  {
   "cell_type": "markdown",
   "metadata": {},
   "source": [
    "При условии L2 регуляризации мы улучшили f1 score до 0,671 при границе разделения классов 0.3571428571428571."
   ]
  },
  {
   "cell_type": "markdown",
   "metadata": {},
   "source": [
    "#### 2. Логистическая регрессия с L1 регуляризацией"
   ]
  },
  {
   "cell_type": "code",
   "execution_count": 216,
   "metadata": {},
   "outputs": [],
   "source": [
    "#Оценим, при какой alfa и какой границе между классами наша модель c L1 регуляризацией выдаст максимальную метрику f1.\n",
    "thresholds = np.linspace(0, 0.5, 50)\n",
    "alfa = np.linspace(0, 0.03, 50)\n",
    "df_l1 = pd.DataFrame(columns = ['alpha', 'threshold', 'f1_score'])\n",
    "df_l1\n",
    "for a in alfa:\n",
    "    model_lasso= Lasso(alpha=a)\n",
    "    model_lasso.fit(X_train, y_train)\n",
    "    y_lasso_pred = model_lasso.predict(X_test)\n",
    "    for threshold in thresholds:\n",
    "        df_l1.loc[len(df_l1.index)]=[a, threshold, f1_score(y_test, (y_lasso_pred > threshold).astype(int))]"
   ]
  },
  {
   "cell_type": "code",
   "execution_count": 217,
   "metadata": {},
   "outputs": [
    {
     "data": {
      "text/html": [
       "<div>\n",
       "<style scoped>\n",
       "    .dataframe tbody tr th:only-of-type {\n",
       "        vertical-align: middle;\n",
       "    }\n",
       "\n",
       "    .dataframe tbody tr th {\n",
       "        vertical-align: top;\n",
       "    }\n",
       "\n",
       "    .dataframe thead th {\n",
       "        text-align: right;\n",
       "    }\n",
       "</style>\n",
       "<table border=\"1\" class=\"dataframe\">\n",
       "  <thead>\n",
       "    <tr style=\"text-align: right;\">\n",
       "      <th></th>\n",
       "      <th>alpha</th>\n",
       "      <th>threshold</th>\n",
       "      <th>f1_score</th>\n",
       "    </tr>\n",
       "  </thead>\n",
       "  <tbody>\n",
       "    <tr>\n",
       "      <th>283</th>\n",
       "      <td>0.003061</td>\n",
       "      <td>0.336735</td>\n",
       "      <td>0.674927</td>\n",
       "    </tr>\n",
       "  </tbody>\n",
       "</table>\n",
       "</div>"
      ],
      "text/plain": [
       "        alpha  threshold  f1_score\n",
       "283  0.003061   0.336735  0.674927"
      ]
     },
     "execution_count": 217,
     "metadata": {},
     "output_type": "execute_result"
    }
   ],
   "source": [
    "df_l1.iloc[df_l1[df_l1.f1_score== max(df_l1.f1_score)].index]"
   ]
  },
  {
   "cell_type": "code",
   "execution_count": 218,
   "metadata": {},
   "outputs": [
    {
     "name": "stdout",
     "output_type": "stream",
     "text": [
      "F1 score для логистической регресси c L1 регуляризацией 0.675\n",
      "Accuracy для логистической регресси с L1 регуляризацией 0.802\n"
     ]
    }
   ],
   "source": [
    "print (f'F1 score для логистической регресси c L1 регуляризацией {f1_score(y_test, (y_pred_lasso > df_l1.iloc[283].threshold).astype(int)).round(3)}')\n",
    "print (f'Accuracy для логистической регресси с L1 регуляризацией {accuracy_score(y_test,  (y_pred_lasso > df_l1.iloc[283].threshold).astype(int)).round(3)}')"
   ]
  },
  {
   "cell_type": "code",
   "execution_count": 188,
   "metadata": {},
   "outputs": [
    {
     "data": {
      "image/png": "[encoded data removed]",
      "text/plain": [
       "<Figure size 640x480 with 1 Axes>"
      ]
     },
     "metadata": {},
     "output_type": "display_data"
    }
   ],
   "source": [
    "#Отобразим значимость признаков \n",
    "plt.barh(Xtrain.drop(\"target\", axis=1).columns, model_lasso_best.coef_.flatten())\n",
    "\n",
    "plt.xlabel(\"Вес признака при L1 регуляризации\")\n",
    "plt.ylabel(\"Признак\")\n",
    "\n",
    "plt.show()"
   ]
  },
  {
   "cell_type": "markdown",
   "metadata": {},
   "source": [
    "При условии L1 регуляризации мы улучшили f1 score до 0,675 при границе разделения классов 0.336735."
   ]
  },
  {
   "cell_type": "markdown",
   "metadata": {},
   "source": [
    "#### 3. Метод опорных векторов со взвешенными классами"
   ]
  },
  {
   "cell_type": "code",
   "execution_count": 190,
   "metadata": {},
   "outputs": [
    {
     "name": "stdout",
     "output_type": "stream",
     "text": [
      "F1 score для метода опорных векторов со взвешенными классами составляет 0.22\n",
      "Accuracy для метода опорных векторов со взвешенными классами составляет 0.79\n"
     ]
    }
   ],
   "source": [
    "svc_balanced = SVC(class_weight='balanced')\n",
    "svc_balanced.fit(X_train, y_train)\n",
    "y_pred_svc_balanced = svc_balanced.predict(X_test)\n",
    "print (f'F1 score для метода опорных векторов со взвешенными классами составляет {f1_score(y_test, y_pred_svc_balanced).round(2)}')\n",
    "print (f'Accuracy для метода опорных векторов со взвешенными классами составляет {accuracy_score(y_test,y_pred_svc_balanced).round(2)}')"
   ]
  },
  {
   "cell_type": "markdown",
   "metadata": {},
   "source": [
    "Метод опорных векторов со взвешенными классами улучшил f1 score до 0,22 (было 0,08)."
   ]
  },
  {
   "cell_type": "markdown",
   "metadata": {},
   "source": [
    "#### 4. Метод опорных векторов со взвешенными классами и полиномиальными признаками"
   ]
  },
  {
   "cell_type": "code",
   "execution_count": 193,
   "metadata": {},
   "outputs": [
    {
     "name": "stdout",
     "output_type": "stream",
     "text": [
      "F1 score для метода опорных векторов со взвешенными классами и полиномиальными признаками составляет 0.37\n",
      "Accuracy для метода опорных векторов со взвешенными классами и полиномиальными признаками составляет 0.49\n"
     ]
    }
   ],
   "source": [
    "from sklearn.preprocessing import PolynomialFeatures\n",
    "# Создаем полиномиальные признаки\n",
    "poly = PolynomialFeatures(degree=2)\n",
    "X_train_poly = poly.fit_transform(X_train)\n",
    "X_test_poly = poly.transform(X_test)\n",
    "\n",
    "svc_balanced_poly = SVC(class_weight='balanced')\n",
    "svc_balanced_poly.fit(X_train_poly, y_train)\n",
    "y_pred_svc_balanced_poly = svc_balanced_poly.predict(X_test_poly)\n",
    "print (f'F1 score для метода опорных векторов со взвешенными классами и полиномиальными признаками составляет {f1_score(y_test, y_pred_svc_balanced_poly).round(2)}')\n",
    "print (f'Accuracy для метода опорных векторов со взвешенными классами и полиномиальными признаками составляет {accuracy_score(y_test,y_pred_svc_balanced_poly).round(2)}')"
   ]
  },
  {
   "cell_type": "markdown",
   "metadata": {},
   "source": [
    "Метод опорных векторов со взвешенными классами и полиномиальными признаками улучшил f1 score до 0,37."
   ]
  },
  {
   "cell_type": "markdown",
   "metadata": {},
   "source": [
    "#### 5.  Логистическая регрессия с L1 регуляризацией и полиномиальными признаками"
   ]
  },
  {
   "cell_type": "code",
   "execution_count": 226,
   "metadata": {},
   "outputs": [],
   "source": [
    "#Оценим, при какой alfa и какой границе между классами наша модель c L1 регуляризацией выдаст максимальную метрику f1.\n",
    "thresholds = np.linspace(0, 0.5, 50)\n",
    "alfa = np.linspace(0, 0.03, 50)\n",
    "df_l1_poly = pd.DataFrame(columns = ['alpha', 'threshold', 'f1_score'])\n",
    "for a in alfa:\n",
    "    model_lasso= Lasso(alpha=a)\n",
    "    model_lasso.fit(X_train_poly, y_train)\n",
    "    y_lasso_pred_poly = model_lasso.predict(X_test_poly)\n",
    "    for threshold in thresholds:\n",
    "        df_l1_poly.loc[len(df_l1_poly.index)]=[a, threshold, f1_score(y_test, (y_lasso_pred_poly > threshold).astype(int))]"
   ]
  },
  {
   "cell_type": "code",
   "execution_count": 229,
   "metadata": {},
   "outputs": [
    {
     "data": {
      "text/html": [
       "<div>\n",
       "<style scoped>\n",
       "    .dataframe tbody tr th:only-of-type {\n",
       "        vertical-align: middle;\n",
       "    }\n",
       "\n",
       "    .dataframe tbody tr th {\n",
       "        vertical-align: top;\n",
       "    }\n",
       "\n",
       "    .dataframe thead th {\n",
       "        text-align: right;\n",
       "    }\n",
       "</style>\n",
       "<table border=\"1\" class=\"dataframe\">\n",
       "  <thead>\n",
       "    <tr style=\"text-align: right;\">\n",
       "      <th></th>\n",
       "      <th>alpha</th>\n",
       "      <th>threshold</th>\n",
       "      <th>f1_score</th>\n",
       "    </tr>\n",
       "  </thead>\n",
       "  <tbody>\n",
       "    <tr>\n",
       "      <th>83</th>\n",
       "      <td>0.000612</td>\n",
       "      <td>0.336735</td>\n",
       "      <td>0.690402</td>\n",
       "    </tr>\n",
       "  </tbody>\n",
       "</table>\n",
       "</div>"
      ],
      "text/plain": [
       "       alpha  threshold  f1_score\n",
       "83  0.000612   0.336735  0.690402"
      ]
     },
     "execution_count": 229,
     "metadata": {},
     "output_type": "execute_result"
    }
   ],
   "source": [
    "df_l1_poly.iloc[df_l1_poly[df_l1_poly.f1_score== max(df_l1_poly.f1_score)].index]"
   ]
  },
  {
   "cell_type": "code",
   "execution_count": 230,
   "metadata": {},
   "outputs": [
    {
     "name": "stdout",
     "output_type": "stream",
     "text": [
      "F1 score для логистической регресси c L1 регуляризацией и полиномиальными признаками 0.69\n"
     ]
    }
   ],
   "source": [
    "print (f'F1 score для логистической регресси c L1 регуляризацией и полиномиальными признаками {df_l1_poly.iloc[83].f1_score.round(3)}')\n"
   ]
  },
  {
   "cell_type": "markdown",
   "metadata": {},
   "source": [
    "Метод логистической регресси c L1 регуляризацией и полиномиальными признаками дал f1 score 0.69"
   ]
  },
  {
   "cell_type": "markdown",
   "metadata": {},
   "source": [
    "#### 6.  Логистическая регрессия с L2 регуляризацией и полиномиальными признаками"
   ]
  },
  {
   "cell_type": "code",
   "execution_count": 208,
   "metadata": {},
   "outputs": [],
   "source": [
    "alpha = np.linspace(0.1, 10, 50)\n",
    "# Подбор параметров модели с помощью GridSearchCV\n",
    "param_grid = {\"alpha\": alpha}\n",
    "grid_search = GridSearchCV(model_ridge, param_grid, scoring=\"f1\", cv=5)\n",
    "grid_search.fit(X_train_poly, y_train)\n",
    "model_ridge_best_poly = grid_search.best_estimator_\n",
    "y_pred_ridge_poly = model_ridge_best_poly.predict(X_test_poly)"
   ]
  },
  {
   "cell_type": "code",
   "execution_count": 211,
   "metadata": {},
   "outputs": [
    {
     "name": "stdout",
     "output_type": "stream",
     "text": [
      "Лучшая граница разделения классов для модели линейной регрессии 0.357\n"
     ]
    }
   ],
   "source": [
    "#Оценим, при какой границе между классами наша модель выдаст максимальную метрику f1.\n",
    "thresholds = np.linspace(0, 0.5, 50)\n",
    "recalls = {}\n",
    "for threshold in thresholds:\n",
    "    recalls[f1_score(y_test, (y_pred_ridge_poly > threshold).astype(int))] = threshold\n",
    "ridge_best_threshold_poly = recalls[max(recalls.keys())].round(3)\n",
    "print(f'Лучшая граница разделения классов для модели линейной регрессии {ridge_best_threshold_poly}')"
   ]
  },
  {
   "cell_type": "code",
   "execution_count": 212,
   "metadata": {},
   "outputs": [
    {
     "name": "stdout",
     "output_type": "stream",
     "text": [
      "F1 score для логистической регресси c L2 регуляризацией 0.683\n",
      "Accuracy для логистической регресси с L2 регуляризацией 0.827\n"
     ]
    }
   ],
   "source": [
    "print (f'F1 score для логистической регресси c L2 регуляризацией {f1_score(y_test, (y_pred_ridge_poly > ridge_best_threshold_poly).astype(int)).round(3)}')\n",
    "print (f'Accuracy для логистической регресси с L2 регуляризацией {accuracy_score(y_test,  (y_pred_ridge_poly > ridge_best_threshold_poly).astype(int)).round(3)}')"
   ]
  },
  {
   "cell_type": "markdown",
   "metadata": {},
   "source": [
    "Метод логистической регресси c L2 регуляризацией и полиномиальными признаками дал f1 score 0.683"
   ]
  },
  {
   "cell_type": "markdown",
   "metadata": {
    "id": "yfu3yy_7tWcy"
   },
   "source": [
    "### 5. Оцените на отложенной выборке качество наилучшей модели\n",
    "В пунктах 3 и 4 вы построили много разных моделей.\n",
    "\n",
    "Возьмите ту, которая дала наилучшее качество на тестовых данных (Test). Примените её на отложенной выборке (TestData) и выведите на экран значение метрики f1."
   ]
  },
  {
   "cell_type": "code",
   "execution_count": null,
   "metadata": {
    "id": "upHUOfrktWcy"
   },
   "outputs": [],
   "source": [
    "# Ваш код здесь\n",
    "#Лучшее значение f1 score нам дала модель логистическая регрессия с L1 регуляризацией и полиномиальными признаками"
   ]
  },
  {
   "cell_type": "code",
   "execution_count": 239,
   "metadata": {},
   "outputs": [],
   "source": [
    "Xtest_poly = poly.fit_transform(Xtest.drop('target', axis=1))"
   ]
  },
  {
   "cell_type": "code",
   "execution_count": 247,
   "metadata": {},
   "outputs": [
    {
     "name": "stdout",
     "output_type": "stream",
     "text": [
      "F1 score для лучшей модели 0.475\n",
      "Accuracy для лучшей модели 0.821\n"
     ]
    }
   ],
   "source": [
    "y_pred_best_model = best_model_lasso.predict(Xtest_poly)\n",
    "print (f'F1 score для лучшей модели {f1_score(Xtest.target, (y_pred_best_model > df_l1_poly.iloc[83].threshold.round(3)).astype(int)).round(3)}')\n",
    "print (f'Accuracy для лучшей модели {accuracy_score(Xtest.target,  (y_pred_best_model > df_l1_poly.iloc[83].threshold.round(3)).astype(int)).round(3)}')"
   ]
  },
  {
   "cell_type": "markdown",
   "metadata": {
    "id": "YZT0rMuStWcz"
   },
   "source": [
    "### 6. Выполните хитрый трюк\n",
    "Часто смешивание различных моделей даёт улучшение итогового предсказания. Попробуйте смешать две лучшие модели по формуле:\n",
    "$$pred_{final} = \\alpha\\cdot pred_1 + (1-\\alpha)\\cdot pred_2$$.\n",
    "\n",
    "Значение $\\alpha$ подберите в цикле по Test-выборке. Оцените качество на отложенной выборке.\n",
    "\n",
    "Удалось ли добиться улучшения качества?"
   ]
  },
  {
   "cell_type": "code",
   "execution_count": 253,
   "metadata": {
    "id": "3DdSsk6gtWc7"
   },
   "outputs": [],
   "source": [
    "# Ваш код здесь\n",
    "alpha = np.linspace(0, 0.5, 50)\n",
    "df_final = pd.DataFrame(columns = ['alpha', 'threshold', 'f1_score'])\n",
    "for a in alpha:\n",
    "    y_pred = a * y_pred_best_model + (1-a)* model_ridge_best_poly.predict(Xtest_poly)\n",
    "    for threshold in thresholds:\n",
    "        df_final.loc[len(df_final.index)]=[a, threshold, f1_score(Xtest.target, (y_pred > threshold).astype(int))]"
   ]
  },
  {
   "cell_type": "code",
   "execution_count": 257,
   "metadata": {},
   "outputs": [
    {
     "data": {
      "text/html": [
       "<div>\n",
       "<style scoped>\n",
       "    .dataframe tbody tr th:only-of-type {\n",
       "        vertical-align: middle;\n",
       "    }\n",
       "\n",
       "    .dataframe tbody tr th {\n",
       "        vertical-align: top;\n",
       "    }\n",
       "\n",
       "    .dataframe thead th {\n",
       "        text-align: right;\n",
       "    }\n",
       "</style>\n",
       "<table border=\"1\" class=\"dataframe\">\n",
       "  <thead>\n",
       "    <tr style=\"text-align: right;\">\n",
       "      <th></th>\n",
       "      <th>alpha</th>\n",
       "      <th>threshold</th>\n",
       "      <th>f1_score</th>\n",
       "    </tr>\n",
       "  </thead>\n",
       "  <tbody>\n",
       "    <tr>\n",
       "      <th>1422</th>\n",
       "      <td>0.285714</td>\n",
       "      <td>0.22449</td>\n",
       "      <td>0.613782</td>\n",
       "    </tr>\n",
       "  </tbody>\n",
       "</table>\n",
       "</div>"
      ],
      "text/plain": [
       "         alpha  threshold  f1_score\n",
       "1422  0.285714    0.22449  0.613782"
      ]
     },
     "execution_count": 257,
     "metadata": {},
     "output_type": "execute_result"
    }
   ],
   "source": [
    "df_final[df_final.f1_score==max(df_final.f1_score)]"
   ]
  },
  {
   "cell_type": "markdown",
   "metadata": {},
   "source": [
    "При альфа = 0.285714 и границе разделения классов 0.22449 смесь моделей достигает метрики f1 score 0,614 на отложенной тестовой выборке."
   ]
  },
  {
   "cell_type": "code",
   "execution_count": null,
   "metadata": {},
   "outputs": [],
   "source": []
  },
  {
   "cell_type": "markdown",
   "metadata": {
    "id": "9b9imFkLtWc8"
   },
   "source": [
    "### 7. Сделайте выводы\n",
    "\n",
    "Запишите в отдельной ячейке текстом выводы о проделанной работе. Для этого ответьте на вопросы:\n",
    "- Какие подходы вы использовали для улучшения работы baseline-моделей?\n",
    "- Какого максимального качества удалось добиться на Test-данных?\n",
    "- Какое при этом получилось качество на отложенной выборке?\n",
    "- Ваша модель переобучилась, недообучилась или обучилась как надо?"
   ]
  },
  {
   "cell_type": "markdown",
   "metadata": {
    "id": "wWgT4ulytWc-"
   },
   "source": [
    "Для улучшения базовых моделей логистической регрессии я использовала L1 и L2 регуляризацию, метода опорных векторов - взвешивание классов, так же для обоих моделей использовала ввод полиномиальных признаков. Лучших результатов я добилась у модели логистической регрессии с L1 регуляризацией и полиномиальными признаками, f1 = 0.69 на тестовой выборке и 0,475 на отложенной тестовой выборке. На втором месте была модель логистической регрессии с L2 регуляризацией и полиномиальными признаками, f1 = 0.683 на тестовой выборке. При комбинации этих двух моделей со значением альфа  = 0.285714 и границе разделения классов 0.22449 смесь моделей достигает метрики f1 score 0,614 на отложенной тестовой выборке.\n"
   ]
  },
  {
   "cell_type": "markdown",
   "metadata": {
    "id": "cnFjm55atWc-"
   },
   "source": [
    "Важный комментарий! В реальных задачах не следует ожидать, что машинным обучением всегда удастся решить задачу с хорошим качеством. Но использовать все имеющиеся у вас в арсенале методы для достижения наилучшего результата нужно."
   ]
  }
 ],
 "metadata": {
  "colab": {
   "provenance": []
  },
  "kernelspec": {
   "display_name": "Python 3 (ipykernel)",
   "language": "python",
   "name": "python3"
  },
  "language_info": {
   "codemirror_mode": {
    "name": "ipython",
    "version": 3
   },
   "file_extension": ".py",
   "mimetype": "text/x-python",
   "name": "python",
   "nbconvert_exporter": "python",
   "pygments_lexer": "ipython3",
   "version": "3.11.7"
  }
 },
 "nbformat": 4,
 "nbformat_minor": 4
}
