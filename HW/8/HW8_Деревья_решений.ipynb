{
 "cells": [
  {
   "cell_type": "markdown",
   "metadata": {
    "id": "viMIsUg6HDMe"
   },
   "source": [
    "# Решающие деревья. Домашнее задание"
   ]
  },
  {
   "cell_type": "markdown",
   "metadata": {
    "id": "0-tRk6fdxmB-"
   },
   "source": [
    "## Что нужно сделать\n",
    "Решите задачу классификации оттоковых клиентов телекома: для каждого клиента необходимо определить, перестанет он пользоваться услугами оператора в ближайшее время или нет."
   ]
  },
  {
   "cell_type": "code",
   "execution_count": 90,
   "metadata": {
    "colab": {
     "base_uri": "https://localhost:8080/",
     "height": 305
    },
    "id": "DIjF1xlpwOMd",
    "outputId": "98c7d62d-0849-4702-8d98-1406e20f59b7"
   },
   "outputs": [
    {
     "data": {
      "text/html": [
       "<div>\n",
       "<style scoped>\n",
       "    .dataframe tbody tr th:only-of-type {\n",
       "        vertical-align: middle;\n",
       "    }\n",
       "\n",
       "    .dataframe tbody tr th {\n",
       "        vertical-align: top;\n",
       "    }\n",
       "\n",
       "    .dataframe thead th {\n",
       "        text-align: right;\n",
       "    }\n",
       "</style>\n",
       "<table border=\"1\" class=\"dataframe\">\n",
       "  <thead>\n",
       "    <tr style=\"text-align: right;\">\n",
       "      <th></th>\n",
       "      <th>State</th>\n",
       "      <th>Account length</th>\n",
       "      <th>Area code</th>\n",
       "      <th>International plan</th>\n",
       "      <th>Voice mail plan</th>\n",
       "      <th>Number vmail messages</th>\n",
       "      <th>Total day minutes</th>\n",
       "      <th>Total day calls</th>\n",
       "      <th>Total day charge</th>\n",
       "      <th>Total eve minutes</th>\n",
       "      <th>Total eve calls</th>\n",
       "      <th>Total eve charge</th>\n",
       "      <th>Total night minutes</th>\n",
       "      <th>Total night calls</th>\n",
       "      <th>Total night charge</th>\n",
       "      <th>Total intl minutes</th>\n",
       "      <th>Total intl calls</th>\n",
       "      <th>Total intl charge</th>\n",
       "      <th>Customer service calls</th>\n",
       "      <th>Churn</th>\n",
       "    </tr>\n",
       "  </thead>\n",
       "  <tbody>\n",
       "    <tr>\n",
       "      <th>0</th>\n",
       "      <td>KS</td>\n",
       "      <td>128</td>\n",
       "      <td>415</td>\n",
       "      <td>No</td>\n",
       "      <td>Yes</td>\n",
       "      <td>25</td>\n",
       "      <td>265.1</td>\n",
       "      <td>110</td>\n",
       "      <td>45.07</td>\n",
       "      <td>197.4</td>\n",
       "      <td>99</td>\n",
       "      <td>16.78</td>\n",
       "      <td>244.7</td>\n",
       "      <td>91</td>\n",
       "      <td>11.01</td>\n",
       "      <td>10.0</td>\n",
       "      <td>3</td>\n",
       "      <td>2.70</td>\n",
       "      <td>1</td>\n",
       "      <td>False</td>\n",
       "    </tr>\n",
       "    <tr>\n",
       "      <th>1</th>\n",
       "      <td>OH</td>\n",
       "      <td>107</td>\n",
       "      <td>415</td>\n",
       "      <td>No</td>\n",
       "      <td>Yes</td>\n",
       "      <td>26</td>\n",
       "      <td>161.6</td>\n",
       "      <td>123</td>\n",
       "      <td>27.47</td>\n",
       "      <td>195.5</td>\n",
       "      <td>103</td>\n",
       "      <td>16.62</td>\n",
       "      <td>254.4</td>\n",
       "      <td>103</td>\n",
       "      <td>11.45</td>\n",
       "      <td>13.7</td>\n",
       "      <td>3</td>\n",
       "      <td>3.70</td>\n",
       "      <td>1</td>\n",
       "      <td>False</td>\n",
       "    </tr>\n",
       "    <tr>\n",
       "      <th>2</th>\n",
       "      <td>NJ</td>\n",
       "      <td>137</td>\n",
       "      <td>415</td>\n",
       "      <td>No</td>\n",
       "      <td>No</td>\n",
       "      <td>0</td>\n",
       "      <td>243.4</td>\n",
       "      <td>114</td>\n",
       "      <td>41.38</td>\n",
       "      <td>121.2</td>\n",
       "      <td>110</td>\n",
       "      <td>10.30</td>\n",
       "      <td>162.6</td>\n",
       "      <td>104</td>\n",
       "      <td>7.32</td>\n",
       "      <td>12.2</td>\n",
       "      <td>5</td>\n",
       "      <td>3.29</td>\n",
       "      <td>0</td>\n",
       "      <td>False</td>\n",
       "    </tr>\n",
       "    <tr>\n",
       "      <th>3</th>\n",
       "      <td>OH</td>\n",
       "      <td>84</td>\n",
       "      <td>408</td>\n",
       "      <td>Yes</td>\n",
       "      <td>No</td>\n",
       "      <td>0</td>\n",
       "      <td>299.4</td>\n",
       "      <td>71</td>\n",
       "      <td>50.90</td>\n",
       "      <td>61.9</td>\n",
       "      <td>88</td>\n",
       "      <td>5.26</td>\n",
       "      <td>196.9</td>\n",
       "      <td>89</td>\n",
       "      <td>8.86</td>\n",
       "      <td>6.6</td>\n",
       "      <td>7</td>\n",
       "      <td>1.78</td>\n",
       "      <td>2</td>\n",
       "      <td>False</td>\n",
       "    </tr>\n",
       "    <tr>\n",
       "      <th>4</th>\n",
       "      <td>OK</td>\n",
       "      <td>75</td>\n",
       "      <td>415</td>\n",
       "      <td>Yes</td>\n",
       "      <td>No</td>\n",
       "      <td>0</td>\n",
       "      <td>166.7</td>\n",
       "      <td>113</td>\n",
       "      <td>28.34</td>\n",
       "      <td>148.3</td>\n",
       "      <td>122</td>\n",
       "      <td>12.61</td>\n",
       "      <td>186.9</td>\n",
       "      <td>121</td>\n",
       "      <td>8.41</td>\n",
       "      <td>10.1</td>\n",
       "      <td>3</td>\n",
       "      <td>2.73</td>\n",
       "      <td>3</td>\n",
       "      <td>False</td>\n",
       "    </tr>\n",
       "  </tbody>\n",
       "</table>\n",
       "</div>"
      ],
      "text/plain": [
       "  State  Account length  Area code International plan Voice mail plan  \\\n",
       "0    KS             128        415                 No             Yes   \n",
       "1    OH             107        415                 No             Yes   \n",
       "2    NJ             137        415                 No              No   \n",
       "3    OH              84        408                Yes              No   \n",
       "4    OK              75        415                Yes              No   \n",
       "\n",
       "   Number vmail messages  Total day minutes  Total day calls  \\\n",
       "0                     25              265.1              110   \n",
       "1                     26              161.6              123   \n",
       "2                      0              243.4              114   \n",
       "3                      0              299.4               71   \n",
       "4                      0              166.7              113   \n",
       "\n",
       "   Total day charge  Total eve minutes  Total eve calls  Total eve charge  \\\n",
       "0             45.07              197.4               99             16.78   \n",
       "1             27.47              195.5              103             16.62   \n",
       "2             41.38              121.2              110             10.30   \n",
       "3             50.90               61.9               88              5.26   \n",
       "4             28.34              148.3              122             12.61   \n",
       "\n",
       "   Total night minutes  Total night calls  Total night charge  \\\n",
       "0                244.7                 91               11.01   \n",
       "1                254.4                103               11.45   \n",
       "2                162.6                104                7.32   \n",
       "3                196.9                 89                8.86   \n",
       "4                186.9                121                8.41   \n",
       "\n",
       "   Total intl minutes  Total intl calls  Total intl charge  \\\n",
       "0                10.0                 3               2.70   \n",
       "1                13.7                 3               3.70   \n",
       "2                12.2                 5               3.29   \n",
       "3                 6.6                 7               1.78   \n",
       "4                10.1                 3               2.73   \n",
       "\n",
       "   Customer service calls  Churn  \n",
       "0                       1  False  \n",
       "1                       1  False  \n",
       "2                       0  False  \n",
       "3                       2  False  \n",
       "4                       3  False  "
      ]
     },
     "execution_count": 90,
     "metadata": {},
     "output_type": "execute_result"
    }
   ],
   "source": [
    "import pandas as pd\n",
    "import numpy as np\n",
    "\n",
    "df = pd.read_csv(\"telecom_churn.csv\")\n",
    "df.head()"
   ]
  },
  {
   "cell_type": "markdown",
   "metadata": {
    "id": "MT5L6lWZyDkE"
   },
   "source": [
    "Сделайте первичную обработку данных:\n",
    "\n",
    "1. Выбросите колонку State.\n",
    "\n",
    "2. Колонки International plan и Voice mail plan закодируйте следующим образом: Yes замените на 1, а No на 0.\n",
    "\n",
    "3. Переведите целевую переменную (Churn) в числа: True в 1, а False в 0."
   ]
  },
  {
   "cell_type": "code",
   "execution_count": 91,
   "metadata": {},
   "outputs": [],
   "source": [
    "# ваш код здесь\n",
    "df.drop('State', axis=1, inplace=True)"
   ]
  },
  {
   "cell_type": "code",
   "execution_count": 92,
   "metadata": {},
   "outputs": [
    {
     "data": {
      "text/html": [
       "<div>\n",
       "<style scoped>\n",
       "    .dataframe tbody tr th:only-of-type {\n",
       "        vertical-align: middle;\n",
       "    }\n",
       "\n",
       "    .dataframe tbody tr th {\n",
       "        vertical-align: top;\n",
       "    }\n",
       "\n",
       "    .dataframe thead th {\n",
       "        text-align: right;\n",
       "    }\n",
       "</style>\n",
       "<table border=\"1\" class=\"dataframe\">\n",
       "  <thead>\n",
       "    <tr style=\"text-align: right;\">\n",
       "      <th></th>\n",
       "      <th>International plan</th>\n",
       "      <th>Voice mail plan</th>\n",
       "    </tr>\n",
       "  </thead>\n",
       "  <tbody>\n",
       "    <tr>\n",
       "      <th>count</th>\n",
       "      <td>3333</td>\n",
       "      <td>3333</td>\n",
       "    </tr>\n",
       "    <tr>\n",
       "      <th>unique</th>\n",
       "      <td>2</td>\n",
       "      <td>2</td>\n",
       "    </tr>\n",
       "    <tr>\n",
       "      <th>top</th>\n",
       "      <td>No</td>\n",
       "      <td>No</td>\n",
       "    </tr>\n",
       "    <tr>\n",
       "      <th>freq</th>\n",
       "      <td>3010</td>\n",
       "      <td>2411</td>\n",
       "    </tr>\n",
       "  </tbody>\n",
       "</table>\n",
       "</div>"
      ],
      "text/plain": [
       "       International plan Voice mail plan\n",
       "count                3333            3333\n",
       "unique                  2               2\n",
       "top                    No              No\n",
       "freq                 3010            2411"
      ]
     },
     "execution_count": 92,
     "metadata": {},
     "output_type": "execute_result"
    }
   ],
   "source": [
    "df.describe(include = 'object')"
   ]
  },
  {
   "cell_type": "code",
   "execution_count": 93,
   "metadata": {
    "id": "7U6J16EVx0iy"
   },
   "outputs": [],
   "source": [
    "df[['International plan', 'Voice mail plan']] = df[['International plan', 'Voice mail plan']].replace({'Yes' : 1, 'No' : 0}).astype(int)\n",
    "df.Churn = df.Churn.astype(int)"
   ]
  },
  {
   "cell_type": "markdown",
   "metadata": {
    "id": "N2hAu7tmy0Ps"
   },
   "source": [
    "Выведите на экран первые строки изменённой таблицы, чтобы проверить, что все преобразования сработали."
   ]
  },
  {
   "cell_type": "code",
   "execution_count": 94,
   "metadata": {
    "id": "lG9oOv0uydW8"
   },
   "outputs": [
    {
     "data": {
      "text/html": [
       "<div>\n",
       "<style scoped>\n",
       "    .dataframe tbody tr th:only-of-type {\n",
       "        vertical-align: middle;\n",
       "    }\n",
       "\n",
       "    .dataframe tbody tr th {\n",
       "        vertical-align: top;\n",
       "    }\n",
       "\n",
       "    .dataframe thead th {\n",
       "        text-align: right;\n",
       "    }\n",
       "</style>\n",
       "<table border=\"1\" class=\"dataframe\">\n",
       "  <thead>\n",
       "    <tr style=\"text-align: right;\">\n",
       "      <th></th>\n",
       "      <th>Account length</th>\n",
       "      <th>Area code</th>\n",
       "      <th>International plan</th>\n",
       "      <th>Voice mail plan</th>\n",
       "      <th>Number vmail messages</th>\n",
       "      <th>Total day minutes</th>\n",
       "      <th>Total day calls</th>\n",
       "      <th>Total day charge</th>\n",
       "      <th>Total eve minutes</th>\n",
       "      <th>Total eve calls</th>\n",
       "      <th>Total eve charge</th>\n",
       "      <th>Total night minutes</th>\n",
       "      <th>Total night calls</th>\n",
       "      <th>Total night charge</th>\n",
       "      <th>Total intl minutes</th>\n",
       "      <th>Total intl calls</th>\n",
       "      <th>Total intl charge</th>\n",
       "      <th>Customer service calls</th>\n",
       "      <th>Churn</th>\n",
       "    </tr>\n",
       "  </thead>\n",
       "  <tbody>\n",
       "    <tr>\n",
       "      <th>0</th>\n",
       "      <td>128</td>\n",
       "      <td>415</td>\n",
       "      <td>0</td>\n",
       "      <td>1</td>\n",
       "      <td>25</td>\n",
       "      <td>265.1</td>\n",
       "      <td>110</td>\n",
       "      <td>45.07</td>\n",
       "      <td>197.4</td>\n",
       "      <td>99</td>\n",
       "      <td>16.78</td>\n",
       "      <td>244.7</td>\n",
       "      <td>91</td>\n",
       "      <td>11.01</td>\n",
       "      <td>10.0</td>\n",
       "      <td>3</td>\n",
       "      <td>2.70</td>\n",
       "      <td>1</td>\n",
       "      <td>0</td>\n",
       "    </tr>\n",
       "    <tr>\n",
       "      <th>1</th>\n",
       "      <td>107</td>\n",
       "      <td>415</td>\n",
       "      <td>0</td>\n",
       "      <td>1</td>\n",
       "      <td>26</td>\n",
       "      <td>161.6</td>\n",
       "      <td>123</td>\n",
       "      <td>27.47</td>\n",
       "      <td>195.5</td>\n",
       "      <td>103</td>\n",
       "      <td>16.62</td>\n",
       "      <td>254.4</td>\n",
       "      <td>103</td>\n",
       "      <td>11.45</td>\n",
       "      <td>13.7</td>\n",
       "      <td>3</td>\n",
       "      <td>3.70</td>\n",
       "      <td>1</td>\n",
       "      <td>0</td>\n",
       "    </tr>\n",
       "    <tr>\n",
       "      <th>2</th>\n",
       "      <td>137</td>\n",
       "      <td>415</td>\n",
       "      <td>0</td>\n",
       "      <td>0</td>\n",
       "      <td>0</td>\n",
       "      <td>243.4</td>\n",
       "      <td>114</td>\n",
       "      <td>41.38</td>\n",
       "      <td>121.2</td>\n",
       "      <td>110</td>\n",
       "      <td>10.30</td>\n",
       "      <td>162.6</td>\n",
       "      <td>104</td>\n",
       "      <td>7.32</td>\n",
       "      <td>12.2</td>\n",
       "      <td>5</td>\n",
       "      <td>3.29</td>\n",
       "      <td>0</td>\n",
       "      <td>0</td>\n",
       "    </tr>\n",
       "    <tr>\n",
       "      <th>3</th>\n",
       "      <td>84</td>\n",
       "      <td>408</td>\n",
       "      <td>1</td>\n",
       "      <td>0</td>\n",
       "      <td>0</td>\n",
       "      <td>299.4</td>\n",
       "      <td>71</td>\n",
       "      <td>50.90</td>\n",
       "      <td>61.9</td>\n",
       "      <td>88</td>\n",
       "      <td>5.26</td>\n",
       "      <td>196.9</td>\n",
       "      <td>89</td>\n",
       "      <td>8.86</td>\n",
       "      <td>6.6</td>\n",
       "      <td>7</td>\n",
       "      <td>1.78</td>\n",
       "      <td>2</td>\n",
       "      <td>0</td>\n",
       "    </tr>\n",
       "    <tr>\n",
       "      <th>4</th>\n",
       "      <td>75</td>\n",
       "      <td>415</td>\n",
       "      <td>1</td>\n",
       "      <td>0</td>\n",
       "      <td>0</td>\n",
       "      <td>166.7</td>\n",
       "      <td>113</td>\n",
       "      <td>28.34</td>\n",
       "      <td>148.3</td>\n",
       "      <td>122</td>\n",
       "      <td>12.61</td>\n",
       "      <td>186.9</td>\n",
       "      <td>121</td>\n",
       "      <td>8.41</td>\n",
       "      <td>10.1</td>\n",
       "      <td>3</td>\n",
       "      <td>2.73</td>\n",
       "      <td>3</td>\n",
       "      <td>0</td>\n",
       "    </tr>\n",
       "  </tbody>\n",
       "</table>\n",
       "</div>"
      ],
      "text/plain": [
       "   Account length  Area code  International plan  Voice mail plan  \\\n",
       "0             128        415                   0                1   \n",
       "1             107        415                   0                1   \n",
       "2             137        415                   0                0   \n",
       "3              84        408                   1                0   \n",
       "4              75        415                   1                0   \n",
       "\n",
       "   Number vmail messages  Total day minutes  Total day calls  \\\n",
       "0                     25              265.1              110   \n",
       "1                     26              161.6              123   \n",
       "2                      0              243.4              114   \n",
       "3                      0              299.4               71   \n",
       "4                      0              166.7              113   \n",
       "\n",
       "   Total day charge  Total eve minutes  Total eve calls  Total eve charge  \\\n",
       "0             45.07              197.4               99             16.78   \n",
       "1             27.47              195.5              103             16.62   \n",
       "2             41.38              121.2              110             10.30   \n",
       "3             50.90               61.9               88              5.26   \n",
       "4             28.34              148.3              122             12.61   \n",
       "\n",
       "   Total night minutes  Total night calls  Total night charge  \\\n",
       "0                244.7                 91               11.01   \n",
       "1                254.4                103               11.45   \n",
       "2                162.6                104                7.32   \n",
       "3                196.9                 89                8.86   \n",
       "4                186.9                121                8.41   \n",
       "\n",
       "   Total intl minutes  Total intl calls  Total intl charge  \\\n",
       "0                10.0                 3               2.70   \n",
       "1                13.7                 3               3.70   \n",
       "2                12.2                 5               3.29   \n",
       "3                 6.6                 7               1.78   \n",
       "4                10.1                 3               2.73   \n",
       "\n",
       "   Customer service calls  Churn  \n",
       "0                       1      0  \n",
       "1                       1      0  \n",
       "2                       0      0  \n",
       "3                       2      0  \n",
       "4                       3      0  "
      ]
     },
     "execution_count": 94,
     "metadata": {},
     "output_type": "execute_result"
    }
   ],
   "source": [
    "# ваш код здесь\n",
    "df.head()"
   ]
  },
  {
   "cell_type": "markdown",
   "metadata": {
    "id": "6_y9azfEzBYd"
   },
   "source": [
    "Создайте матрицу объект-признак X и вектор с целевой переменной (Churn) y."
   ]
  },
  {
   "cell_type": "code",
   "execution_count": 95,
   "metadata": {
    "id": "Nd0nCW4eypLE"
   },
   "outputs": [],
   "source": [
    "# ваш код здесь\n",
    "X = df.drop('Churn', axis=1)\n",
    "y= df.Churn"
   ]
  },
  {
   "cell_type": "markdown",
   "metadata": {
    "id": "NEvkoGWw1hFL"
   },
   "source": [
    "Проверьте баланс классов. Является ли выборка сбалансированной?"
   ]
  },
  {
   "cell_type": "code",
   "execution_count": 96,
   "metadata": {
    "id": "RpPcEOAm1keZ"
   },
   "outputs": [
    {
     "data": {
      "text/plain": [
       "[Text(0, 0, '2850'), Text(0, 0, '483')]"
      ]
     },
     "execution_count": 96,
     "metadata": {},
     "output_type": "execute_result"
    },
    {
     "data": {
      "image/png": "[encoded data removed]",
      "text/plain": [
       "<Figure size 640x480 with 1 Axes>"
      ]
     },
     "metadata": {},
     "output_type": "display_data"
    }
   ],
   "source": [
    "# ваш код здесь\n",
    "fig = y.value_counts().plot(kind='bar', color = 'g')\n",
    "fig.bar_label(fig.containers[0])"
   ]
  },
  {
   "cell_type": "code",
   "execution_count": null,
   "metadata": {},
   "outputs": [],
   "source": [
    "Классы явно несбалансированы."
   ]
  },
  {
   "cell_type": "markdown",
   "metadata": {
    "id": "AYFme2HyzQxL"
   },
   "source": [
    "Разбейте данные на тренировочную и тестовую части, размер тестовой части — 30%."
   ]
  },
  {
   "cell_type": "code",
   "execution_count": 97,
   "metadata": {
    "id": "Cj13GmJlzQDS"
   },
   "outputs": [],
   "source": [
    "from sklearn.model_selection import train_test_split\n",
    "\n",
    "# ваш код здесь\n",
    "X_train, X_test, y_train, y_test = train_test_split(X, y, random_state=45, train_size=0.7)"
   ]
  },
  {
   "cell_type": "markdown",
   "metadata": {
    "id": "GbuDWle1z2Uh"
   },
   "source": [
    "Для линейных моделей очень важно масштабирование признаков. Поэтому отмасштабируйте признаки при помощи [StandardScaler](https://scikit-learn.org/stable/modules/generated/sklearn.preprocessing.StandardScaler.html), обучив метод на тренировочных данных и применив его и к трейну, и к тесту."
   ]
  },
  {
   "cell_type": "code",
   "execution_count": 98,
   "metadata": {
    "id": "69H1fh7VzaZf"
   },
   "outputs": [],
   "source": [
    "from sklearn.preprocessing import StandardScaler\n",
    "\n",
    "# ваш код здесь\n",
    "scaler = StandardScaler()\n",
    "X_train_scaled = scaler.fit_transform(X_train)\n",
    "X_test_scaled = scaler.transform(X_test)"
   ]
  },
  {
   "cell_type": "markdown",
   "metadata": {
    "id": "zvAH5Qte0W50"
   },
   "source": [
    "После масштабирования признаков X_train и X_test перестали быть объектами типа pd.DataFrame, это неудобно. Приведите их снова к pd.DataFrame."
   ]
  },
  {
   "cell_type": "code",
   "execution_count": 99,
   "metadata": {
    "id": "PRlpMQ750WSU"
   },
   "outputs": [],
   "source": [
    "# ваш код здесь\n",
    "X_train_scaled_df = pd.DataFrame(X_train_scaled, columns=X_train.columns)\n",
    "X_test_scaled_df = pd.DataFrame(X_test_scaled, columns=X_train.columns)"
   ]
  },
  {
   "cell_type": "markdown",
   "metadata": {
    "id": "253CDINX1TmR"
   },
   "source": [
    "Обучите на тренировочных данных с параметрами по умолчанию:\n",
    "\n",
    "1) логистическую регрессию;\n",
    "\n",
    "2) метод опорных векторов (с kernel='linear')."
   ]
  },
  {
   "cell_type": "code",
   "execution_count": 140,
   "metadata": {
    "id": "GsQW48lf1SxJ"
   },
   "outputs": [
    {
     "data": {
      "text/html": [
       "<style>#sk-container-id-8 {color: black;background-color: white;}#sk-container-id-8 pre{padding: 0;}#sk-container-id-8 div.sk-toggleable {background-color: white;}#sk-container-id-8 label.sk-toggleable__label {cursor: pointer;display: block;width: 100%;margin-bottom: 0;padding: 0.3em;box-sizing: border-box;text-align: center;}#sk-container-id-8 label.sk-toggleable__label-arrow:before {content: \"▸\";float: left;margin-right: 0.25em;color: #696969;}#sk-container-id-8 label.sk-toggleable__label-arrow:hover:before {color: black;}#sk-container-id-8 div.sk-estimator:hover label.sk-toggleable__label-arrow:before {color: black;}#sk-container-id-8 div.sk-toggleable__content {max-height: 0;max-width: 0;overflow: hidden;text-align: left;background-color: #f0f8ff;}#sk-container-id-8 div.sk-toggleable__content pre {margin: 0.2em;color: black;border-radius: 0.25em;background-color: #f0f8ff;}#sk-container-id-8 input.sk-toggleable__control:checked~div.sk-toggleable__content {max-height: 200px;max-width: 100%;overflow: auto;}#sk-container-id-8 input.sk-toggleable__control:checked~label.sk-toggleable__label-arrow:before {content: \"▾\";}#sk-container-id-8 div.sk-estimator input.sk-toggleable__control:checked~label.sk-toggleable__label {background-color: #d4ebff;}#sk-container-id-8 div.sk-label input.sk-toggleable__control:checked~label.sk-toggleable__label {background-color: #d4ebff;}#sk-container-id-8 input.sk-hidden--visually {border: 0;clip: rect(1px 1px 1px 1px);clip: rect(1px, 1px, 1px, 1px);height: 1px;margin: -1px;overflow: hidden;padding: 0;position: absolute;width: 1px;}#sk-container-id-8 div.sk-estimator {font-family: monospace;background-color: #f0f8ff;border: 1px dotted black;border-radius: 0.25em;box-sizing: border-box;margin-bottom: 0.5em;}#sk-container-id-8 div.sk-estimator:hover {background-color: #d4ebff;}#sk-container-id-8 div.sk-parallel-item::after {content: \"\";width: 100%;border-bottom: 1px solid gray;flex-grow: 1;}#sk-container-id-8 div.sk-label:hover label.sk-toggleable__label {background-color: #d4ebff;}#sk-container-id-8 div.sk-serial::before {content: \"\";position: absolute;border-left: 1px solid gray;box-sizing: border-box;top: 0;bottom: 0;left: 50%;z-index: 0;}#sk-container-id-8 div.sk-serial {display: flex;flex-direction: column;align-items: center;background-color: white;padding-right: 0.2em;padding-left: 0.2em;position: relative;}#sk-container-id-8 div.sk-item {position: relative;z-index: 1;}#sk-container-id-8 div.sk-parallel {display: flex;align-items: stretch;justify-content: center;background-color: white;position: relative;}#sk-container-id-8 div.sk-item::before, #sk-container-id-8 div.sk-parallel-item::before {content: \"\";position: absolute;border-left: 1px solid gray;box-sizing: border-box;top: 0;bottom: 0;left: 50%;z-index: -1;}#sk-container-id-8 div.sk-parallel-item {display: flex;flex-direction: column;z-index: 1;position: relative;background-color: white;}#sk-container-id-8 div.sk-parallel-item:first-child::after {align-self: flex-end;width: 50%;}#sk-container-id-8 div.sk-parallel-item:last-child::after {align-self: flex-start;width: 50%;}#sk-container-id-8 div.sk-parallel-item:only-child::after {width: 0;}#sk-container-id-8 div.sk-dashed-wrapped {border: 1px dashed gray;margin: 0 0.4em 0.5em 0.4em;box-sizing: border-box;padding-bottom: 0.4em;background-color: white;}#sk-container-id-8 div.sk-label label {font-family: monospace;font-weight: bold;display: inline-block;line-height: 1.2em;}#sk-container-id-8 div.sk-label-container {text-align: center;}#sk-container-id-8 div.sk-container {/* jupyter's `normalize.less` sets `[hidden] { display: none; }` but bootstrap.min.css set `[hidden] { display: none !important; }` so we also need the `!important` here to be able to override the default hidden behavior on the sphinx rendered scikit-learn.org. See: https://github.com/scikit-learn/scikit-learn/issues/21755 */display: inline-block !important;position: relative;}#sk-container-id-8 div.sk-text-repr-fallback {display: none;}</style><div id=\"sk-container-id-8\" class=\"sk-top-container\"><div class=\"sk-text-repr-fallback\"><pre>SVC(probability=True)</pre><b>In a Jupyter environment, please rerun this cell to show the HTML representation or trust the notebook. <br />On GitHub, the HTML representation is unable to render, please try loading this page with nbviewer.org.</b></div><div class=\"sk-container\" hidden><div class=\"sk-item\"><div class=\"sk-estimator sk-toggleable\"><input class=\"sk-toggleable__control sk-hidden--visually\" id=\"sk-estimator-id-8\" type=\"checkbox\" checked><label for=\"sk-estimator-id-8\" class=\"sk-toggleable__label sk-toggleable__label-arrow\">SVC</label><div class=\"sk-toggleable__content\"><pre>SVC(probability=True)</pre></div></div></div></div></div>"
      ],
      "text/plain": [
       "SVC(probability=True)"
      ]
     },
     "execution_count": 140,
     "metadata": {},
     "output_type": "execute_result"
    }
   ],
   "source": [
    "from sklearn.linear_model import LogisticRegression\n",
    "from sklearn.svm import SVC\n",
    "\n",
    "# ваш код здесь\n",
    "lr = LogisticRegression()\n",
    "lr.fit(X_train_scaled_df, y_train)\n",
    "\n",
    "svc = SVC(probability=True)\n",
    "svc.fit(X_train_scaled_df, y_train)"
   ]
  },
  {
   "cell_type": "markdown",
   "metadata": {
    "id": "HZszTXSb110B"
   },
   "source": [
    "С помощью обученных моделей сделайте предсказание на тестовых данных."
   ]
  },
  {
   "cell_type": "code",
   "execution_count": 141,
   "metadata": {
    "id": "W9IUlgV011PP"
   },
   "outputs": [
    {
     "name": "stdout",
     "output_type": "stream",
     "text": [
      "roc_auc для логистической регрессии: 0.584229178472651\n",
      "roc_auc для метода опорных векторов: 0.7358349333085231\n"
     ]
    }
   ],
   "source": [
    "from sklearn.metrics import roc_auc_score\n",
    "\n",
    "# ваш код здесь\n",
    "y_pred_lr = lr.predict(X_test_scaled_df)\n",
    "y_pred_svc = svc.predict(X_test_scaled_df)\n",
    "\n",
    "print( f'roc_auc для логистической регрессии: {roc_auc_score(y_test, y_pred_lr)}')\n",
    "print( f'roc_auc для метода опорных векторов: {roc_auc_score(y_test, y_pred_svc)}')"
   ]
  },
  {
   "cell_type": "code",
   "execution_count": 172,
   "metadata": {},
   "outputs": [
    {
     "data": {
      "text/plain": [
       "array([0.10214825, 0.01154925, 0.06407656, 0.1243224 , 0.01965717,\n",
       "       0.0417692 , 0.19370403, 0.04572518, 0.0485557 , 0.03740708,\n",
       "       0.34669742, 0.02195154, 0.08299931, 0.02400257, 0.31550976,\n",
       "       0.25374882, 0.21136157, 0.04664167, 0.15646968, 0.29724205,\n",
       "       0.3428197 , 0.05693316, 0.38258357, 0.40398415, 0.62081919,\n",
       "       0.13269798, 0.02096684, 0.03266879, 0.03077854, 0.01266724,\n",
       "       0.03765257, 0.04330616, 0.40761421, 0.14471085, 0.06819694,\n",
       "       0.28158871, 0.01679172, 0.00609789, 0.17986003, 0.23988281,\n",
       "       0.03569   , 0.01595947, 0.22909604, 0.04743216, 0.06626811,\n",
       "       0.10516114, 0.31088094, 0.01590375, 0.11037257, 0.25021597,\n",
       "       0.06158762, 0.35892414, 0.4787524 , 0.80471938, 0.02451573,\n",
       "       0.32242317, 0.03841027, 0.32875054, 0.01000447, 0.16106286,\n",
       "       0.02639942, 0.36445528, 0.10187336, 0.05054929, 0.01816099,\n",
       "       0.68465195, 0.29356459, 0.04689064, 0.05048353, 0.23621468,\n",
       "       0.05088685, 0.11642902, 0.01963298, 0.18296308, 0.06871723,\n",
       "       0.09571266, 0.22946293, 0.11820619, 0.23597717, 0.03250429,\n",
       "       0.00822537, 0.04652575, 0.33326568, 0.47876311, 0.13152621,\n",
       "       0.42766952, 0.03371568, 0.0316301 , 0.07196254, 0.70277789,\n",
       "       0.20127505, 0.25716792, 0.03676215, 0.32857423, 0.06791806,\n",
       "       0.5735569 , 0.43598678, 0.06654616, 0.04137066, 0.04949786,\n",
       "       0.19585805, 0.0582828 , 0.01831222, 0.06442351, 0.03623837,\n",
       "       0.07804521, 0.25771904, 0.07205802, 0.01311923, 0.00244172,\n",
       "       0.06174414, 0.09558753, 0.12008333, 0.13081339, 0.24257524,\n",
       "       0.05441502, 0.06513562, 0.43717116, 0.14492697, 0.04144574,\n",
       "       0.62077442, 0.51248073, 0.04716596, 0.12359998, 0.1869013 ,\n",
       "       0.04505788, 0.13221662, 0.04046197, 0.24704517, 0.03780929,\n",
       "       0.10961399, 0.04818305, 0.1389362 , 0.1071189 , 0.13730553,\n",
       "       0.07156973, 0.04020441, 0.0846269 , 0.48996091, 0.2242657 ,\n",
       "       0.70561868, 0.30175613, 0.18126414, 0.0142426 , 0.04556911,\n",
       "       0.10156049, 0.00808612, 0.02696846, 0.11535721, 0.03266464,\n",
       "       0.10243575, 0.16744735, 0.1208018 , 0.34699876, 0.00956395,\n",
       "       0.09302454, 0.00332156, 0.24092408, 0.06258423, 0.17113422,\n",
       "       0.10661727, 0.07159568, 0.0341123 , 0.08408858, 0.27834436,\n",
       "       0.00833505, 0.04096316, 0.00736214, 0.2277876 , 0.20229187,\n",
       "       0.09281816, 0.29317794, 0.00571346, 0.09866926, 0.05635887,\n",
       "       0.10997668, 0.06770474, 0.37065016, 0.01562465, 0.30921236,\n",
       "       0.23112991, 0.66601569, 0.48801924, 0.2346569 , 0.71279841,\n",
       "       0.10849796, 0.03107803, 0.09085675, 0.08491603, 0.14947526,\n",
       "       0.07427007, 0.08763446, 0.18139173, 0.12649478, 0.03339785,\n",
       "       0.08176452, 0.01726718, 0.08180049, 0.384206  , 0.26200381,\n",
       "       0.10234159, 0.31752247, 0.08258147, 0.03083099, 0.09556901,\n",
       "       0.01374243, 0.39669655, 0.02645767, 0.1270793 , 0.0249908 ,\n",
       "       0.04234255, 0.14024855, 0.07502567, 0.03015116, 0.35525992,\n",
       "       0.00743793, 0.12781122, 0.34301262, 0.08544952, 0.17324271,\n",
       "       0.13587621, 0.22630285, 0.13792492, 0.05939839, 0.16394521,\n",
       "       0.06991012, 0.19574828, 0.08346831, 0.1546017 , 0.05004422,\n",
       "       0.09700367, 0.08481867, 0.01779643, 0.03123461, 0.20978536,\n",
       "       0.03711702, 0.44228649, 0.0102791 , 0.01307896, 0.0379086 ,\n",
       "       0.23977897, 0.03198453, 0.0909647 , 0.04745658, 0.07517774,\n",
       "       0.15792333, 0.01985599, 0.10654804, 0.02292979, 0.19781918,\n",
       "       0.03464115, 0.13407903, 0.30138377, 0.09238969, 0.0222081 ,\n",
       "       0.04761187, 0.0338663 , 0.03249324, 0.09028365, 0.19150516,\n",
       "       0.03899774, 0.63245273, 0.07174295, 0.05112735, 0.02635994,\n",
       "       0.0977809 , 0.25382355, 0.559013  , 0.00991321, 0.1016451 ,\n",
       "       0.27715404, 0.10844264, 0.0984192 , 0.13942289, 0.30881715,\n",
       "       0.09871642, 0.09510066, 0.09136378, 0.05460588, 0.02623431,\n",
       "       0.12237846, 0.06290723, 0.03342759, 0.06315181, 0.12618282,\n",
       "       0.49682474, 0.29092856, 0.1167042 , 0.70332285, 0.02873212,\n",
       "       0.15466789, 0.23252268, 0.12072771, 0.05335937, 0.0621166 ,\n",
       "       0.20192041, 0.09818001, 0.31595364, 0.06155014, 0.2733636 ,\n",
       "       0.1922397 , 0.10524871, 0.06661622, 0.44280361, 0.05950293,\n",
       "       0.09554527, 0.52057275, 0.17375627, 0.16171508, 0.09040386,\n",
       "       0.06008234, 0.07350157, 0.01469575, 0.17674538, 0.2325297 ,\n",
       "       0.02472885, 0.37233314, 0.40660802, 0.1404853 , 0.61080291,\n",
       "       0.09658646, 0.06979228, 0.13748237, 0.11487306, 0.01121695,\n",
       "       0.18879459, 0.05652922, 0.02355048, 0.04784232, 0.17614924,\n",
       "       0.18868608, 0.06486049, 0.03173745, 0.09725488, 0.52279056,\n",
       "       0.11144937, 0.60609543, 0.0444731 , 0.02517294, 0.0181766 ,\n",
       "       0.3560136 , 0.0443909 , 0.03274827, 0.89739152, 0.23270428,\n",
       "       0.29482916, 0.33676952, 0.08529249, 0.09794408, 0.22955358,\n",
       "       0.10915933, 0.05013863, 0.43186492, 0.05477859, 0.03154112,\n",
       "       0.0528869 , 0.11140142, 0.00863965, 0.01086782, 0.0301795 ,\n",
       "       0.13537399, 0.09751301, 0.19942608, 0.20611017, 0.09382797,\n",
       "       0.05590008, 0.03182665, 0.49054325, 0.53038744, 0.04770491,\n",
       "       0.0346608 , 0.08372255, 0.02905943, 0.02213998, 0.04570183,\n",
       "       0.05947803, 0.08121369, 0.0268467 , 0.3327394 , 0.0511095 ,\n",
       "       0.15277333, 0.25300974, 0.01212452, 0.0645817 , 0.19039924,\n",
       "       0.08919169, 0.13286365, 0.02873547, 0.03122031, 0.6009812 ,\n",
       "       0.21939539, 0.13364245, 0.03628887, 0.11206163, 0.0777314 ,\n",
       "       0.14185637, 0.07995497, 0.11761743, 0.00420505, 0.09678346,\n",
       "       0.02573232, 0.1866577 , 0.72609776, 0.74258147, 0.04729017,\n",
       "       0.15440284, 0.06537322, 0.02388963, 0.24058504, 0.04506254,\n",
       "       0.12151871, 0.06004598, 0.31862563, 0.06239406, 0.01929263,\n",
       "       0.03154359, 0.04182095, 0.22779621, 0.01795347, 0.03034849,\n",
       "       0.09628747, 0.00931049, 0.10379126, 0.03756139, 0.0346247 ,\n",
       "       0.13972228, 0.29535377, 0.16012075, 0.03261939, 0.02711504,\n",
       "       0.13653292, 0.08514273, 0.23305877, 0.18952792, 0.06588578,\n",
       "       0.03257543, 0.01085696, 0.8116534 , 0.01491044, 0.4566971 ,\n",
       "       0.46741515, 0.09795893, 0.12941518, 0.08564999, 0.12446844,\n",
       "       0.12847976, 0.08231886, 0.09872559, 0.10836138, 0.50555613,\n",
       "       0.50500377, 0.07218825, 0.05344582, 0.02090445, 0.10983725,\n",
       "       0.42698037, 0.2442801 , 0.10645197, 0.06758273, 0.13551939,\n",
       "       0.45732285, 0.08251282, 0.096537  , 0.03536317, 0.14109939,\n",
       "       0.30914066, 0.00868693, 0.06626092, 0.03360728, 0.06034007,\n",
       "       0.14070116, 0.04382818, 0.014355  , 0.12323305, 0.08921325,\n",
       "       0.01611424, 0.0331272 , 0.04558795, 0.08581679, 0.01545059,\n",
       "       0.07587636, 0.519282  , 0.32163354, 0.02906731, 0.00845631,\n",
       "       0.00938055, 0.1534726 , 0.67514277, 0.10034926, 0.04140936,\n",
       "       0.04782276, 0.02600505, 0.03263975, 0.53362456, 0.04510626,\n",
       "       0.06001086, 0.05351686, 0.01549184, 0.0315163 , 0.08482333,\n",
       "       0.2683533 , 0.03970529, 0.02738501, 0.04135539, 0.00545828,\n",
       "       0.21224962, 0.08701324, 0.19102057, 0.02795437, 0.02622914,\n",
       "       0.61827081, 0.04797797, 0.04451731, 0.02869734, 0.06289581,\n",
       "       0.02894066, 0.08300528, 0.05387528, 0.02813339, 0.08308531,\n",
       "       0.13184943, 0.01579195, 0.05391215, 0.48226112, 0.06672962,\n",
       "       0.03289805, 0.13698854, 0.0641716 , 0.81587932, 0.07788224,\n",
       "       0.00292443, 0.20804029, 0.06588146, 0.24257608, 0.55382999,\n",
       "       0.03304001, 0.04126713, 0.03340919, 0.1253308 , 0.01297133,\n",
       "       0.0163083 , 0.01455442, 0.52526261, 0.07660148, 0.43592827,\n",
       "       0.25912587, 0.01321512, 0.02130387, 0.06539826, 0.12888941,\n",
       "       0.30230687, 0.03367724, 0.13692109, 0.06993518, 0.08926189,\n",
       "       0.28508538, 0.5896374 , 0.2053386 , 0.0525092 , 0.03148332,\n",
       "       0.0818378 , 0.03571419, 0.03997297, 0.04323539, 0.0070796 ,\n",
       "       0.56838297, 0.07983983, 0.01856484, 0.06783435, 0.14568094,\n",
       "       0.02093647, 0.33431885, 0.09081456, 0.21658524, 0.01442051,\n",
       "       0.19244468, 0.08989182, 0.02807284, 0.0540762 , 0.03559297,\n",
       "       0.04932439, 0.29881546, 0.03553724, 0.03589537, 0.06220342,\n",
       "       0.18827833, 0.03753672, 0.2307972 , 0.23079134, 0.05402926,\n",
       "       0.0106538 , 0.03739686, 0.07249857, 0.06494603, 0.00803952,\n",
       "       0.01295975, 0.3363543 , 0.29862367, 0.07448855, 0.03630361,\n",
       "       0.10348501, 0.12038184, 0.17832106, 0.09014934, 0.40693231,\n",
       "       0.32054423, 0.02209598, 0.00762126, 0.02338978, 0.21162845,\n",
       "       0.02778525, 0.02712662, 0.01648141, 0.382842  , 0.05569528,\n",
       "       0.03932023, 0.05907671, 0.04927435, 0.00472647, 0.17329959,\n",
       "       0.02414693, 0.08267983, 0.09248695, 0.11706545, 0.34343764,\n",
       "       0.07482528, 0.6488005 , 0.05548423, 0.00757348, 0.02818234,\n",
       "       0.03673749, 0.01626717, 0.70247061, 0.19098735, 0.01258487,\n",
       "       0.01801801, 0.03983729, 0.17527622, 0.02507183, 0.07916446,\n",
       "       0.02645704, 0.00913504, 0.17922309, 0.18251387, 0.02459784,\n",
       "       0.01236293, 0.08150611, 0.04838889, 0.12537741, 0.04714227,\n",
       "       0.02558991, 0.85030155, 0.08386879, 0.01487573, 0.19420527,\n",
       "       0.09819914, 0.45830265, 0.07420124, 0.12351692, 0.35936067,\n",
       "       0.02165904, 0.10764522, 0.02861108, 0.10921755, 0.37002176,\n",
       "       0.25004977, 0.03054039, 0.11830578, 0.05727212, 0.10756855,\n",
       "       0.32803707, 0.02378003, 0.08642041, 0.11746295, 0.32936349,\n",
       "       0.05588091, 0.04249431, 0.32678748, 0.03211461, 0.29603982,\n",
       "       0.01499591, 0.1224101 , 0.02789704, 0.01621548, 0.01382653,\n",
       "       0.23826989, 0.0589984 , 0.06770947, 0.0629058 , 0.02104315,\n",
       "       0.20990829, 0.30849337, 0.00826608, 0.13215228, 0.29047093,\n",
       "       0.04929357, 0.00272558, 0.60278252, 0.49626596, 0.08266445,\n",
       "       0.0499033 , 0.08668197, 0.09165076, 0.10948728, 0.00746758,\n",
       "       0.20879772, 0.01596504, 0.07189708, 0.08195613, 0.12087978,\n",
       "       0.14356284, 0.49251327, 0.27077815, 0.13383655, 0.00967307,\n",
       "       0.04952966, 0.0154402 , 0.39127105, 0.22411495, 0.01790016,\n",
       "       0.01976273, 0.05735065, 0.03315352, 0.07681292, 0.06313336,\n",
       "       0.06083146, 0.02969846, 0.22336613, 0.14243617, 0.45337849,\n",
       "       0.89127936, 0.07218674, 0.35246058, 0.10315224, 0.51730912,\n",
       "       0.05573515, 0.43806866, 0.17152811, 0.02989671, 0.06704815,\n",
       "       0.4454936 , 0.10413204, 0.00915768, 0.04383444, 0.31020059,\n",
       "       0.03444114, 0.1267386 , 0.048522  , 0.04969585, 0.60349792,\n",
       "       0.05096903, 0.07728137, 0.67637391, 0.06001759, 0.38808154,\n",
       "       0.13956144, 0.14132162, 0.02597   , 0.04421398, 0.09548289,\n",
       "       0.39353743, 0.24167895, 0.71896956, 0.21372282, 0.08335258,\n",
       "       0.03495169, 0.11580838, 0.06348514, 0.02221772, 0.01503647,\n",
       "       0.04999727, 0.02749731, 0.00932264, 0.07307981, 0.15115006,\n",
       "       0.01298545, 0.36008356, 0.13082675, 0.00982697, 0.06584394,\n",
       "       0.09836243, 0.75342893, 0.03426013, 0.35807849, 0.04713876,\n",
       "       0.11019656, 0.12817308, 0.40078147, 0.03746137, 0.03330392,\n",
       "       0.05620053, 0.07508515, 0.03973312, 0.1623996 , 0.28900401,\n",
       "       0.03476638, 0.08087044, 0.31050057, 0.27174216, 0.0046051 ,\n",
       "       0.07701096, 0.04297899, 0.03141977, 0.02666648, 0.10640263,\n",
       "       0.27056066, 0.57809265, 0.09974429, 0.23925648, 0.03433036,\n",
       "       0.1623774 , 0.01595697, 0.1394575 , 0.65343074, 0.06524319,\n",
       "       0.09721474, 0.24785899, 0.78908141, 0.39056428, 0.14246801,\n",
       "       0.02017379, 0.10178235, 0.0802501 , 0.11139392, 0.43385336,\n",
       "       0.04834654, 0.16292605, 0.10972186, 0.07813367, 0.23103991,\n",
       "       0.008233  , 0.02118708, 0.02686754, 0.13941897, 0.04664871,\n",
       "       0.16076137, 0.05834861, 0.23149897, 0.33246792, 0.03378379,\n",
       "       0.32745961, 0.12682431, 0.04556939, 0.06568684, 0.01097756,\n",
       "       0.13141598, 0.10846272, 0.021984  , 0.10883665, 0.04526253,\n",
       "       0.07375235, 0.15036009, 0.05199815, 0.07605569, 0.3625098 ,\n",
       "       0.15076723, 0.02556981, 0.06476479, 0.18064552, 0.02339132,\n",
       "       0.02577727, 0.35441666, 0.21401205, 0.02961579, 0.21115044,\n",
       "       0.52152056, 0.12816504, 0.05621354, 0.2640777 , 0.02453912,\n",
       "       0.02683737, 0.02707903, 0.07961654, 0.25470495, 0.06771725,\n",
       "       0.0940533 , 0.30586028, 0.0011973 , 0.11183733, 0.11270327,\n",
       "       0.09797877, 0.01682084, 0.07714765, 0.17020242, 0.00564943,\n",
       "       0.30541809, 0.07621405, 0.24910198, 0.14421416, 0.04066455,\n",
       "       0.18446789, 0.13594698, 0.02841937, 0.04225011, 0.41655788,\n",
       "       0.07859374, 0.08495551, 0.25310015, 0.18770533, 0.51836438,\n",
       "       0.08451326, 0.01231895, 0.09982796, 0.1105502 , 0.33072804,\n",
       "       0.05309563, 0.08834224, 0.22561908, 0.04741072, 0.05045418,\n",
       "       0.0344471 , 0.18023832, 0.58348658, 0.47775804, 0.03612786,\n",
       "       0.1193589 , 0.18933876, 0.04443353, 0.5517335 , 0.00413086,\n",
       "       0.03350418, 0.0163413 , 0.6472457 , 0.09301435, 0.03225842,\n",
       "       0.05786704, 0.06561063, 0.24306645, 0.14300602, 0.04928109,\n",
       "       0.37403434, 0.13176695, 0.598747  , 0.01324089, 0.02490879,\n",
       "       0.06996956, 0.20475707, 0.36897203, 0.02312833, 0.15097513,\n",
       "       0.11992692, 0.40089325, 0.193517  , 0.19646494, 0.05698534,\n",
       "       0.0896778 , 0.15192584, 0.02166434, 0.05134269, 0.03928815,\n",
       "       0.02115651, 0.08760604, 0.12694994, 0.09940771, 0.51833082,\n",
       "       0.17723565, 0.17925827, 0.03890409, 0.27611431, 0.01574442,\n",
       "       0.02819991, 0.01851796, 0.47986867, 0.04067516, 0.0473839 ,\n",
       "       0.6784324 , 0.0955032 , 0.2125043 , 0.06924528, 0.25571157,\n",
       "       0.62452033, 0.01577572, 0.69243965, 0.07508861, 0.17043754,\n",
       "       0.06344145, 0.02177262, 0.03376323, 0.28854354, 0.07487671,\n",
       "       0.24932803, 0.5158732 , 0.05838958, 0.01160981, 0.05628082,\n",
       "       0.02084051, 0.55112413, 0.11746732, 0.03916726, 0.02363721,\n",
       "       0.05928492, 0.19547248, 0.17970185, 0.01538244, 0.02990947,\n",
       "       0.01243115, 0.20444955, 0.1210713 , 0.20912208, 0.22391349])"
      ]
     },
     "execution_count": 172,
     "metadata": {},
     "output_type": "execute_result"
    }
   ],
   "source": [
    "lr_probs"
   ]
  },
  {
   "cell_type": "markdown",
   "metadata": {
    "id": "mVgXsdO02iVG"
   },
   "source": [
    "Теперь обучите решающее дерево с параметрами по умолчанию на тренировочных данных, сделайте предсказание на тесте. Используйте метрику для оценки."
   ]
  },
  {
   "cell_type": "code",
   "execution_count": 158,
   "metadata": {
    "id": "yc822SQa2Zsc"
   },
   "outputs": [
    {
     "name": "stdout",
     "output_type": "stream",
     "text": [
      "roc_auc для дерева решений и немасштабированных данных: 0.8479290541397771\n"
     ]
    }
   ],
   "source": [
    "from sklearn.tree import DecisionTreeClassifier\n",
    "\n",
    "# ваш код здесь\n",
    "#до масштабирования\n",
    "dt = DecisionTreeClassifier()\n",
    "dt.fit(X_train, y_train)\n",
    "y_pred_dt = dt.predict(X_test)\n",
    "print( f'roc_auc для дерева решений и немасштабированных данных: {roc_auc_score(y_test, y_pred_dt)}')"
   ]
  },
  {
   "cell_type": "markdown",
   "metadata": {
    "id": "wNSwPGPl22zf"
   },
   "source": [
    "Нужно ли масшабировать признаки для обучения решающего дерева? Проверьте это, заново разбив данные на тренировочную и тестовую части (назовите новые полученные объекты новыми названиями), и проведите обучение, предсказание и оценку метрики до масштабирования и после."
   ]
  },
  {
   "cell_type": "code",
   "execution_count": 166,
   "metadata": {
    "id": "t0tjFrP02yIR"
   },
   "outputs": [
    {
     "name": "stdout",
     "output_type": "stream",
     "text": [
      "roc_auc для дерева решений и масштабированных данных: 0.8362273853727026\n"
     ]
    }
   ],
   "source": [
    "# ваш код здесь\n",
    "#после масштабирования\n",
    "dt_scaled = DecisionTreeClassifier()\n",
    "dt_scaled.fit(X_train_scaled_df, y_train)\n",
    "y_pred_dt_scaled = dt_scaled.predict(X_test_scaled_df)\n",
    "print( f'roc_auc для дерева решений и масштабированных данных: {roc_auc_score(y_test, y_pred_dt_scaled)}')"
   ]
  },
  {
   "cell_type": "markdown",
   "metadata": {
    "id": "NVlFtudDG20y"
   },
   "source": [
    "Метрики roc_auc не зависит от масштаба данных, так как решающее дерево не требует масштабирования признаков, его алгоритм основан на разделении по порогам и не чувствителен к величине признаков. "
   ]
  },
  {
   "cell_type": "code",
   "execution_count": 142,
   "metadata": {},
   "outputs": [],
   "source": [
    "from sklearn.metrics import roc_curve, auc"
   ]
  },
  {
   "cell_type": "code",
   "execution_count": 177,
   "metadata": {},
   "outputs": [
    {
     "name": "stdout",
     "output_type": "stream",
     "text": [
      "LogisticRegression: ROC AUC=0.813\n",
      "SVC: ROC AUC=0.895\n",
      "Decision Tree: ROC AUC=0.836\n"
     ]
    }
   ],
   "source": [
    "lr_probs=lr.predict_proba(X_test_scaled_df)[:, 1]\n",
    "svc_probs=svc.predict_proba(X_test_scaled_df)[:, 1]\n",
    "dt_probs=dt_scaled.predict_proba(X_test_scaled_df)[:, 1]\n",
    "\n",
    "# рассчитываем ROC AUC\n",
    "lr_auc = roc_auc_score(y_test, lr_probs)\n",
    "print('LogisticRegression: ROC AUC=%.3f' % (lr_auc))\n",
    "\n",
    "svc_auc = roc_auc_score(y_test, svc_probs)\n",
    "print('SVC: ROC AUC=%.3f' % (svc_auc))\n",
    "\n",
    "dt_auc = roc_auc_score(y_test, dt_probs)\n",
    "print('Decision Tree: ROC AUC=%.3f' % (dt_auc))"
   ]
  },
  {
   "cell_type": "code",
   "execution_count": 179,
   "metadata": {},
   "outputs": [],
   "source": [
    "# рассчитываем roc-кривую\n",
    "fpr_lr, tpr_lr, treshold_lr = roc_curve(y_test, lr_probs)\n",
    "roc_auc_lr = auc(fpr_lr, tpr_lr)\n",
    "\n",
    "fpr_svc, tpr_svc, treshold_svc = roc_curve(y_test, svc_probs)\n",
    "roc_auc_svc = auc(fpr_svc, tpr_svc)\n",
    "\n",
    "fpr_dt, tpr_dt, treshold_dt = roc_curve(y_test, dt_probs)\n",
    "roc_auc_dt = auc(fpr_dt, tpr_dt)"
   ]
  },
  {
   "cell_type": "code",
   "execution_count": 173,
   "metadata": {},
   "outputs": [
    {
     "data": {
      "image/png": "[encoded data removed]",
      "text/plain": [
       "<Figure size 640x480 with 1 Axes>"
      ]
     },
     "metadata": {},
     "output_type": "display_data"
    }
   ],
   "source": [
    "plt.plot(fpr_lr, tpr_lr, color='darkorange', label='ROC кривая LogisticRegression(AUC = %0.2f)' % roc_auc_lr)\n",
    "plt.plot(fpr_svc, tpr_svc, color='green', label='ROC кривая SVC(AUC = %0.2f)' % roc_auc_svc)\n",
    "plt.plot(fpr_dt, tpr_dt, color='blue', label='ROC кривая Decision Tree(AUC = %0.2f)' % roc_auc_dt)\n",
    "plt.plot([0, 1], [0, 1], color='navy', linestyle='--')\n",
    "plt.xlim([0.0, 1.0])\n",
    "plt.ylim([0.0, 1.05])\n",
    "plt.xlabel('False Positive Rate')\n",
    "plt.ylabel('True Positive Rate')\n",
    "plt.title('ROC-кривые')\n",
    "plt.legend(loc=\"lower right\")\n",
    "plt.show()"
   ]
  },
  {
   "cell_type": "markdown",
   "metadata": {
    "id": "LJdQGP5B6UuT"
   },
   "source": [
    "Какая модель справилась с решением задачи?"
   ]
  },
  {
   "cell_type": "markdown",
   "metadata": {},
   "source": [
    "Все модели справились с решение задачи с достаточно хорошим результатом. По метрике roc_auc_score максимальное значение выдала модель решающего дерева, значение 0,84, но это при условии параметров по умолчанию для логистической регрессии и метода опорных векторов. Однако при анализе roc кривой в зависимости от порогового значения лучшие показатели дала модель опорных векторов, максимальная roc_auc 0,895 и auc 0.9. На втором месте модель решаещего дерева, и на последнейм логистическая регрессия."
   ]
  },
  {
   "cell_type": "code",
   "execution_count": null,
   "metadata": {},
   "outputs": [],
   "source": []
  }
 ],
 "metadata": {
  "colab": {
   "provenance": []
  },
  "kernelspec": {
   "display_name": "Python 3 (ipykernel)",
   "language": "python",
   "name": "python3"
  },
  "language_info": {
   "codemirror_mode": {
    "name": "ipython",
    "version": 3
   },
   "file_extension": ".py",
   "mimetype": "text/x-python",
   "name": "python",
   "nbconvert_exporter": "python",
   "pygments_lexer": "ipython3",
   "version": "3.11.7"
  }
 },
 "nbformat": 4,
 "nbformat_minor": 4
}
